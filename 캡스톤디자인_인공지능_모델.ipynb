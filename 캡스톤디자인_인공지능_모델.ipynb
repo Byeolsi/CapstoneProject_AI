{
  "nbformat": 4,
  "nbformat_minor": 0,
  "metadata": {
    "colab": {
      "name": "캡스톤디자인 인공지능 모델.ipynb",
      "provenance": [],
      "collapsed_sections": []
    },
    "kernelspec": {
      "name": "python3",
      "display_name": "Python 3"
    },
    "language_info": {
      "name": "python"
    },
    "accelerator": "TPU",
    "widgets": {
      "application/vnd.jupyter.widget-state+json": {
        "ef9962f11b254f77b3b82cb0249b8b58": {
          "model_module": "@jupyter-widgets/controls",
          "model_name": "HBoxModel",
          "model_module_version": "1.5.0",
          "state": {
            "_view_name": "HBoxView",
            "_dom_classes": [],
            "_model_name": "HBoxModel",
            "_view_module": "@jupyter-widgets/controls",
            "_model_module_version": "1.5.0",
            "_view_count": null,
            "_view_module_version": "1.5.0",
            "box_style": "",
            "layout": "IPY_MODEL_5c21059b71334368a9fbb7314f71dd2f",
            "_model_module": "@jupyter-widgets/controls",
            "children": [
              "IPY_MODEL_7c633d06d7bb4326939c314e7246d262",
              "IPY_MODEL_5c55e522707d428a85e48245b13884e9",
              "IPY_MODEL_4aebf3df91ee4286bcdf42d228412c56"
            ]
          }
        },
        "5c21059b71334368a9fbb7314f71dd2f": {
          "model_module": "@jupyter-widgets/base",
          "model_name": "LayoutModel",
          "model_module_version": "1.2.0",
          "state": {
            "_view_name": "LayoutView",
            "grid_template_rows": null,
            "right": null,
            "justify_content": null,
            "_view_module": "@jupyter-widgets/base",
            "overflow": null,
            "_model_module_version": "1.2.0",
            "_view_count": null,
            "flex_flow": null,
            "width": null,
            "min_width": null,
            "border": null,
            "align_items": null,
            "bottom": null,
            "_model_module": "@jupyter-widgets/base",
            "top": null,
            "grid_column": null,
            "overflow_y": null,
            "overflow_x": null,
            "grid_auto_flow": null,
            "grid_area": null,
            "grid_template_columns": null,
            "flex": null,
            "_model_name": "LayoutModel",
            "justify_items": null,
            "grid_row": null,
            "max_height": null,
            "align_content": null,
            "visibility": null,
            "align_self": null,
            "height": null,
            "min_height": null,
            "padding": null,
            "grid_auto_rows": null,
            "grid_gap": null,
            "max_width": null,
            "order": null,
            "_view_module_version": "1.2.0",
            "grid_template_areas": null,
            "object_position": null,
            "object_fit": null,
            "grid_auto_columns": null,
            "margin": null,
            "display": null,
            "left": null
          }
        },
        "7c633d06d7bb4326939c314e7246d262": {
          "model_module": "@jupyter-widgets/controls",
          "model_name": "HTMLModel",
          "model_module_version": "1.5.0",
          "state": {
            "_view_name": "HTMLView",
            "style": "IPY_MODEL_200b308c08524dfc9459016a969d1d39",
            "_dom_classes": [],
            "description": "",
            "_model_name": "HTMLModel",
            "placeholder": "​",
            "_view_module": "@jupyter-widgets/controls",
            "_model_module_version": "1.5.0",
            "value": "Downloading: 100%",
            "_view_count": null,
            "_view_module_version": "1.5.0",
            "description_tooltip": null,
            "_model_module": "@jupyter-widgets/controls",
            "layout": "IPY_MODEL_8744adcecca645669cdc1758ee6a6dd5"
          }
        },
        "5c55e522707d428a85e48245b13884e9": {
          "model_module": "@jupyter-widgets/controls",
          "model_name": "FloatProgressModel",
          "model_module_version": "1.5.0",
          "state": {
            "_view_name": "ProgressView",
            "style": "IPY_MODEL_3f397c15cbde4d42a746a35a11accb43",
            "_dom_classes": [],
            "description": "",
            "_model_name": "FloatProgressModel",
            "bar_style": "success",
            "max": 445025130,
            "_view_module": "@jupyter-widgets/controls",
            "_model_module_version": "1.5.0",
            "value": 445025130,
            "_view_count": null,
            "_view_module_version": "1.5.0",
            "orientation": "horizontal",
            "min": 0,
            "description_tooltip": null,
            "_model_module": "@jupyter-widgets/controls",
            "layout": "IPY_MODEL_93c2f64a0a024c789c112945e895e389"
          }
        },
        "4aebf3df91ee4286bcdf42d228412c56": {
          "model_module": "@jupyter-widgets/controls",
          "model_name": "HTMLModel",
          "model_module_version": "1.5.0",
          "state": {
            "_view_name": "HTMLView",
            "style": "IPY_MODEL_64515bd3d290413f9951ea8464c5b525",
            "_dom_classes": [],
            "description": "",
            "_model_name": "HTMLModel",
            "placeholder": "​",
            "_view_module": "@jupyter-widgets/controls",
            "_model_module_version": "1.5.0",
            "value": " 424M/424M [00:11&lt;00:00, 41.6MB/s]",
            "_view_count": null,
            "_view_module_version": "1.5.0",
            "description_tooltip": null,
            "_model_module": "@jupyter-widgets/controls",
            "layout": "IPY_MODEL_7664dee952994b40903c08830cdd025b"
          }
        },
        "200b308c08524dfc9459016a969d1d39": {
          "model_module": "@jupyter-widgets/controls",
          "model_name": "DescriptionStyleModel",
          "model_module_version": "1.5.0",
          "state": {
            "_view_name": "StyleView",
            "_model_name": "DescriptionStyleModel",
            "description_width": "",
            "_view_module": "@jupyter-widgets/base",
            "_model_module_version": "1.5.0",
            "_view_count": null,
            "_view_module_version": "1.2.0",
            "_model_module": "@jupyter-widgets/controls"
          }
        },
        "8744adcecca645669cdc1758ee6a6dd5": {
          "model_module": "@jupyter-widgets/base",
          "model_name": "LayoutModel",
          "model_module_version": "1.2.0",
          "state": {
            "_view_name": "LayoutView",
            "grid_template_rows": null,
            "right": null,
            "justify_content": null,
            "_view_module": "@jupyter-widgets/base",
            "overflow": null,
            "_model_module_version": "1.2.0",
            "_view_count": null,
            "flex_flow": null,
            "width": null,
            "min_width": null,
            "border": null,
            "align_items": null,
            "bottom": null,
            "_model_module": "@jupyter-widgets/base",
            "top": null,
            "grid_column": null,
            "overflow_y": null,
            "overflow_x": null,
            "grid_auto_flow": null,
            "grid_area": null,
            "grid_template_columns": null,
            "flex": null,
            "_model_name": "LayoutModel",
            "justify_items": null,
            "grid_row": null,
            "max_height": null,
            "align_content": null,
            "visibility": null,
            "align_self": null,
            "height": null,
            "min_height": null,
            "padding": null,
            "grid_auto_rows": null,
            "grid_gap": null,
            "max_width": null,
            "order": null,
            "_view_module_version": "1.2.0",
            "grid_template_areas": null,
            "object_position": null,
            "object_fit": null,
            "grid_auto_columns": null,
            "margin": null,
            "display": null,
            "left": null
          }
        },
        "3f397c15cbde4d42a746a35a11accb43": {
          "model_module": "@jupyter-widgets/controls",
          "model_name": "ProgressStyleModel",
          "model_module_version": "1.5.0",
          "state": {
            "_view_name": "StyleView",
            "_model_name": "ProgressStyleModel",
            "description_width": "",
            "_view_module": "@jupyter-widgets/base",
            "_model_module_version": "1.5.0",
            "_view_count": null,
            "_view_module_version": "1.2.0",
            "bar_color": null,
            "_model_module": "@jupyter-widgets/controls"
          }
        },
        "93c2f64a0a024c789c112945e895e389": {
          "model_module": "@jupyter-widgets/base",
          "model_name": "LayoutModel",
          "model_module_version": "1.2.0",
          "state": {
            "_view_name": "LayoutView",
            "grid_template_rows": null,
            "right": null,
            "justify_content": null,
            "_view_module": "@jupyter-widgets/base",
            "overflow": null,
            "_model_module_version": "1.2.0",
            "_view_count": null,
            "flex_flow": null,
            "width": null,
            "min_width": null,
            "border": null,
            "align_items": null,
            "bottom": null,
            "_model_module": "@jupyter-widgets/base",
            "top": null,
            "grid_column": null,
            "overflow_y": null,
            "overflow_x": null,
            "grid_auto_flow": null,
            "grid_area": null,
            "grid_template_columns": null,
            "flex": null,
            "_model_name": "LayoutModel",
            "justify_items": null,
            "grid_row": null,
            "max_height": null,
            "align_content": null,
            "visibility": null,
            "align_self": null,
            "height": null,
            "min_height": null,
            "padding": null,
            "grid_auto_rows": null,
            "grid_gap": null,
            "max_width": null,
            "order": null,
            "_view_module_version": "1.2.0",
            "grid_template_areas": null,
            "object_position": null,
            "object_fit": null,
            "grid_auto_columns": null,
            "margin": null,
            "display": null,
            "left": null
          }
        },
        "64515bd3d290413f9951ea8464c5b525": {
          "model_module": "@jupyter-widgets/controls",
          "model_name": "DescriptionStyleModel",
          "model_module_version": "1.5.0",
          "state": {
            "_view_name": "StyleView",
            "_model_name": "DescriptionStyleModel",
            "description_width": "",
            "_view_module": "@jupyter-widgets/base",
            "_model_module_version": "1.5.0",
            "_view_count": null,
            "_view_module_version": "1.2.0",
            "_model_module": "@jupyter-widgets/controls"
          }
        },
        "7664dee952994b40903c08830cdd025b": {
          "model_module": "@jupyter-widgets/base",
          "model_name": "LayoutModel",
          "model_module_version": "1.2.0",
          "state": {
            "_view_name": "LayoutView",
            "grid_template_rows": null,
            "right": null,
            "justify_content": null,
            "_view_module": "@jupyter-widgets/base",
            "overflow": null,
            "_model_module_version": "1.2.0",
            "_view_count": null,
            "flex_flow": null,
            "width": null,
            "min_width": null,
            "border": null,
            "align_items": null,
            "bottom": null,
            "_model_module": "@jupyter-widgets/base",
            "top": null,
            "grid_column": null,
            "overflow_y": null,
            "overflow_x": null,
            "grid_auto_flow": null,
            "grid_area": null,
            "grid_template_columns": null,
            "flex": null,
            "_model_name": "LayoutModel",
            "justify_items": null,
            "grid_row": null,
            "max_height": null,
            "align_content": null,
            "visibility": null,
            "align_self": null,
            "height": null,
            "min_height": null,
            "padding": null,
            "grid_auto_rows": null,
            "grid_gap": null,
            "max_width": null,
            "order": null,
            "_view_module_version": "1.2.0",
            "grid_template_areas": null,
            "object_position": null,
            "object_fit": null,
            "grid_auto_columns": null,
            "margin": null,
            "display": null,
            "left": null
          }
        }
      }
    }
  },
  "cells": [
    {
      "cell_type": "code",
      "metadata": {
        "colab": {
          "base_uri": "https://localhost:8080/"
        },
        "id": "NHOqsIHifZyt",
        "outputId": "133fe6ea-ccaf-48a1-b1a2-d6a9a6b31752"
      },
      "source": [
        "pip install transformers"
      ],
      "execution_count": null,
      "outputs": [
        {
          "output_type": "stream",
          "name": "stdout",
          "text": [
            "Requirement already satisfied: transformers in /usr/local/lib/python3.7/dist-packages (4.18.0)\n",
            "Requirement already satisfied: tokenizers!=0.11.3,<0.13,>=0.11.1 in /usr/local/lib/python3.7/dist-packages (from transformers) (0.12.1)\n",
            "Requirement already satisfied: tqdm>=4.27 in /usr/local/lib/python3.7/dist-packages (from transformers) (4.64.0)\n",
            "Requirement already satisfied: regex!=2019.12.17 in /usr/local/lib/python3.7/dist-packages (from transformers) (2019.12.20)\n",
            "Requirement already satisfied: packaging>=20.0 in /usr/local/lib/python3.7/dist-packages (from transformers) (21.3)\n",
            "Requirement already satisfied: numpy>=1.17 in /usr/local/lib/python3.7/dist-packages (from transformers) (1.21.6)\n",
            "Requirement already satisfied: filelock in /usr/local/lib/python3.7/dist-packages (from transformers) (3.6.0)\n",
            "Requirement already satisfied: sacremoses in /usr/local/lib/python3.7/dist-packages (from transformers) (0.0.49)\n",
            "Requirement already satisfied: pyyaml>=5.1 in /usr/local/lib/python3.7/dist-packages (from transformers) (6.0)\n",
            "Requirement already satisfied: requests in /usr/local/lib/python3.7/dist-packages (from transformers) (2.23.0)\n",
            "Requirement already satisfied: huggingface-hub<1.0,>=0.1.0 in /usr/local/lib/python3.7/dist-packages (from transformers) (0.5.1)\n",
            "Requirement already satisfied: importlib-metadata in /usr/local/lib/python3.7/dist-packages (from transformers) (4.11.3)\n",
            "Requirement already satisfied: typing-extensions>=3.7.4.3 in /usr/local/lib/python3.7/dist-packages (from huggingface-hub<1.0,>=0.1.0->transformers) (4.2.0)\n",
            "Requirement already satisfied: pyparsing!=3.0.5,>=2.0.2 in /usr/local/lib/python3.7/dist-packages (from packaging>=20.0->transformers) (3.0.8)\n",
            "Requirement already satisfied: zipp>=0.5 in /usr/local/lib/python3.7/dist-packages (from importlib-metadata->transformers) (3.8.0)\n",
            "Requirement already satisfied: urllib3!=1.25.0,!=1.25.1,<1.26,>=1.21.1 in /usr/local/lib/python3.7/dist-packages (from requests->transformers) (1.24.3)\n",
            "Requirement already satisfied: idna<3,>=2.5 in /usr/local/lib/python3.7/dist-packages (from requests->transformers) (2.10)\n",
            "Requirement already satisfied: certifi>=2017.4.17 in /usr/local/lib/python3.7/dist-packages (from requests->transformers) (2021.10.8)\n",
            "Requirement already satisfied: chardet<4,>=3.0.2 in /usr/local/lib/python3.7/dist-packages (from requests->transformers) (3.0.4)\n",
            "Requirement already satisfied: joblib in /usr/local/lib/python3.7/dist-packages (from sacremoses->transformers) (1.1.0)\n",
            "Requirement already satisfied: click in /usr/local/lib/python3.7/dist-packages (from sacremoses->transformers) (7.1.2)\n",
            "Requirement already satisfied: six in /usr/local/lib/python3.7/dist-packages (from sacremoses->transformers) (1.15.0)\n"
          ]
        }
      ]
    },
    {
      "cell_type": "code",
      "metadata": {
        "colab": {
          "base_uri": "https://localhost:8080/"
        },
        "id": "iKnIZ0hz2ROp",
        "outputId": "9888e71e-7c16-4d0d-a6e0-61ab981ca1d9"
      },
      "source": [
        "pip install seqeval"
      ],
      "execution_count": null,
      "outputs": [
        {
          "output_type": "stream",
          "name": "stdout",
          "text": [
            "Requirement already satisfied: seqeval in /usr/local/lib/python3.7/dist-packages (1.2.2)\n",
            "Requirement already satisfied: numpy>=1.14.0 in /usr/local/lib/python3.7/dist-packages (from seqeval) (1.21.6)\n",
            "Requirement already satisfied: scikit-learn>=0.21.3 in /usr/local/lib/python3.7/dist-packages (from seqeval) (1.0.2)\n",
            "Requirement already satisfied: joblib>=0.11 in /usr/local/lib/python3.7/dist-packages (from scikit-learn>=0.21.3->seqeval) (1.1.0)\n",
            "Requirement already satisfied: scipy>=1.1.0 in /usr/local/lib/python3.7/dist-packages (from scikit-learn>=0.21.3->seqeval) (1.4.1)\n",
            "Requirement already satisfied: threadpoolctl>=2.0.0 in /usr/local/lib/python3.7/dist-packages (from scikit-learn>=0.21.3->seqeval) (3.1.0)\n"
          ]
        }
      ]
    },
    {
      "cell_type": "code",
      "metadata": {
        "id": "SMVCwPlYfhOE"
      },
      "source": [
        "import pandas as pd\n",
        "import numpy as np\n",
        "import os\n",
        "from tqdm import tqdm\n",
        "from transformers import shape_list, BertTokenizer, TFBertModel\n",
        "from tensorflow.keras.callbacks import EarlyStopping\n",
        "from tensorflow.keras.preprocessing.sequence import pad_sequences\n",
        "from seqeval.metrics import f1_score, classification_report\n",
        "from sklearn.model_selection import train_test_split\n",
        "import tensorflow as tf"
      ],
      "execution_count": null,
      "outputs": []
    },
    {
      "cell_type": "markdown",
      "metadata": {
        "id": "oi7lX9GXdNzw"
      },
      "source": [
        "# 1. 데이터 로드"
      ]
    },
    {
      "cell_type": "code",
      "metadata": {
        "id": "5A35Mg4d3rRg",
        "colab": {
          "resources": {
            "http://localhost:8080/nbextensions/google.colab/files.js": {
              "data": "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",
              "ok": true,
              "headers": [
                [
                  "content-type",
                  "application/javascript"
                ]
              ],
              "status": 200,
              "status_text": ""
            }
          },
          "base_uri": "https://localhost:8080/",
          "height": 470
        },
        "outputId": "ba59bf2d-8554-4b14-b212-0c9d9c371eaf"
      },
      "source": [
        "import json\n",
        "from google.colab import files\n",
        "\n",
        "uploaded = files.upload()"
      ],
      "execution_count": null,
      "outputs": [
        {
          "output_type": "display_data",
          "data": {
            "text/plain": [
              "<IPython.core.display.HTML object>"
            ],
            "text/html": [
              "\n",
              "     <input type=\"file\" id=\"files-d119ab9a-779a-4724-9082-083200186c14\" name=\"files[]\" multiple disabled\n",
              "        style=\"border:none\" />\n",
              "     <output id=\"result-d119ab9a-779a-4724-9082-083200186c14\">\n",
              "      Upload widget is only available when the cell has been executed in the\n",
              "      current browser session. Please rerun this cell to enable.\n",
              "      </output>\n",
              "      <script src=\"/nbextensions/google.colab/files.js\"></script> "
            ]
          },
          "metadata": {}
        },
        {
          "output_type": "stream",
          "name": "stdout",
          "text": [
            "Saving E2017.NEWS.001.json to E2017.NEWS.001.json\n",
            "Saving E2017.NEWS.002.json to E2017.NEWS.002.json\n",
            "Saving E2017.NEWS.003.json to E2017.NEWS.003.json\n",
            "Saving E2017.NEWS.004.json to E2017.NEWS.004.json\n",
            "Saving E2017.NEWS.005.json to E2017.NEWS.005.json\n",
            "Saving E2017.NEWS.006.json to E2017.NEWS.006.json\n",
            "Saving E2017.NEWS.007.json to E2017.NEWS.007.json\n",
            "Saving E2017.NEWS.008.json to E2017.NEWS.008.json\n",
            "Saving E2017.NEWS.009.json to E2017.NEWS.009.json\n",
            "Saving E2017.NEWS.010.json to E2017.NEWS.010.json\n",
            "Saving E2017.NEWS.011.json to E2017.NEWS.011.json\n",
            "Saving E2017.NEWS.012.json to E2017.NEWS.012.json\n"
          ]
        }
      ]
    },
    {
      "cell_type": "code",
      "source": [
        "ner_label_file = files.upload()"
      ],
      "metadata": {
        "colab": {
          "resources": {
            "http://localhost:8080/nbextensions/google.colab/files.js": {
              "data": "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",
              "ok": true,
              "headers": [
                [
                  "content-type",
                  "application/javascript"
                ]
              ],
              "status": 200,
              "status_text": ""
            }
          },
          "base_uri": "https://localhost:8080/",
          "height": 77
        },
        "id": "Se43xDbVwLcw",
        "outputId": "ba00de92-4585-4ad4-a721-a63665493be5"
      },
      "execution_count": null,
      "outputs": [
        {
          "output_type": "display_data",
          "data": {
            "text/plain": [
              "<IPython.core.display.HTML object>"
            ],
            "text/html": [
              "\n",
              "     <input type=\"file\" id=\"files-4efb90d1-a7ab-4b60-8cd5-353534b425ad\" name=\"files[]\" multiple disabled\n",
              "        style=\"border:none\" />\n",
              "     <output id=\"result-4efb90d1-a7ab-4b60-8cd5-353534b425ad\">\n",
              "      Upload widget is only available when the cell has been executed in the\n",
              "      current browser session. Please rerun this cell to enable.\n",
              "      </output>\n",
              "      <script src=\"/nbextensions/google.colab/files.js\"></script> "
            ]
          },
          "metadata": {}
        },
        {
          "output_type": "stream",
          "name": "stdout",
          "text": [
            "Saving ner_label.txt to ner_label.txt\n"
          ]
        }
      ]
    },
    {
      "cell_type": "code",
      "source": [
        "# 문장과 레이블을 담는 리스트\n",
        "sentences = []\n",
        "labels = []\n",
        "\n",
        "for i in range(1, 13, 1):\n",
        "  # 파일 불러오기\n",
        "  with open('E2017.NEWS.0{0:02d}.json'.format(i)) as data_file:\n",
        "    local = json.load(data_file)\n",
        "\n",
        "  # json 파일의 \"sentence\" 태그 안으로\n",
        "  locals = local[\"sentence\"]\n",
        "  # locals 리스트 안에 각 딕션너리를 순서대로\n",
        "  for locals_index in locals:\n",
        "    # 각 딕션너리의 \"NE\" 태그 안으로\n",
        "    locals_NEs = locals_index[\"NE\"]\n",
        "\n",
        "    # 한 문장 안에 있는 단어들과 그에 대한 레이블을 담는 리스트\n",
        "    sentence = []\n",
        "    label = []\n",
        "    # locals_NEs 중 하나의 단어와 그에 대한 레이블\n",
        "    for locals_NE in locals_NEs:\n",
        "      text = locals_NE['text']\n",
        "      type_ = locals_NE['type']\n",
        "\n",
        "      # sentence 리스트 안에 text 추가\n",
        "      sentence.append(text)\n",
        "      # label 리스트 안에 type_ 추가\n",
        "      label.append(type_)\n",
        "\n",
        "    # sentence 리스트를 sentences 리스트에 추가\n",
        "    sentences.append(sentence)\n",
        "    # label 리스트를 labels 리스트에 추가\n",
        "    labels.append(label)\n",
        "\n",
        "for sentence in sentences:\n",
        "  if not sentence:\n",
        "    del sentence\n",
        "\n",
        "# train 데이터와 test 데이터 분리\n",
        "train_data_sentence, test_data_sentence, train_data_label, test_data_label = train_test_split(sentences, labels, test_size=0.2)\n",
        "\n",
        "print(train_data_sentence)\n",
        "print(train_data_label)\n",
        "print(test_data_sentence)\n",
        "print(test_data_label)"
      ],
      "metadata": {
        "colab": {
          "base_uri": "https://localhost:8080/"
        },
        "id": "OAmJgRubf7I3",
        "outputId": "0b9ab089-79c3-401a-812b-a3e1508b1100"
      },
      "execution_count": null,
      "outputs": [
        {
          "output_type": "stream",
          "name": "stdout",
          "text": [
            "[['북한', '지난 4월 26일', '무인기', '성주'], ['2008년부터 2016년까지', '서울', '3.3㎡', '1748만 원', '1916만 원', '9.6%', 'GDP', '국내총생산', '1조 17억 달러', '1조 4110억 달러', '41%'], ['환자', '주민등록'], ['심폐소생술', '40분', '심장', '내과', '위진', '교수', '체외심폐순환기', 'ECMO'], ['순항미사일', '4월 15일', '평양', '김일성', '105주년', '열병식', '원통형', '4개', '미사일'], ['미국', '토요일', '오전 2시', '상담원'], ['연말', '18일부터'], ['윤인진', '고려대', '사회학과', '교수', '6개월∼1년', '사원', '고용제도'], ['북한', '중앙TV', '사드', '성주', '북쪽', 'X 대역탐지기', '서쪽'], ['경총', '새내기', '직장인', '1년', '49.1%'], ['한 달', '2억 9000만 원', '20.7%'], ['북한', '무인기', '북한'], ['ECMO', '환자'], ['20일 이후', '근로자'], ['미국', '50초', '상담원', '전화'], ['정', '한', '동창생', '대학', '학교'], ['북한', '무인기', '사드', '고고도 미사일방어체계', '경북', '성주', '북측'], [], ['상담원', '한국'], ['홍석현', '신임 특보', '서울', '경기고', '스탠포드대'], ['담임', '아빠', '딸'], ['인제', '무인기', '2∼3㎞', '성주', '북한', '지난달 8일', '조선중앙TV'], ['주말', '6시', '신한은행'], ['4월 초', '7억 8700만 원', '한 달', '7000만 원'], ['심폐소생술', '30분', '의사'], ['겨울철', '경찰'], ['경찰', '소래포구 어시장 화재', '목격자', '3명'], ['덕수상고', '행정고시', '입법고시'], ['아이돌', '연습생', '정유라'], ['청와대'], ['임', '실장', '조', '수석'], ['파주', '삼척', '백령도', '북한', '무인기', '10∼14㎏', '카메라', '무인기', '3∼4㎏'], ['정부', '4대강 살리기 사업'], ['의사', '한 명', '임', '심폐소생술', '의료진'], ['이명진', '고려대', '교수', '직장인', '한 번', '뼈', '연공서열제'], ['문', '대통령'], ['신입사원'], ['3년', '정', '17일'], ['북한', '무인기', '정부', '군부대'], ['김선동', '자유한국당', '원내수석부대표', '뉴시스', '조', '수석'], ['보건복지부', '진영주', '응급의료과장', '올해', '한 사람', '심폐소생술'], ['건설사', '관계자', '건설사', '정부', '4대강', '김상조', '공정위원장'], ['연말정산 간소화 서비스', '근로자'], ['문정인', '신임 특보', '제주', '오현고', '메릴랜드대', '정치학', '박사'], ['전문가', '신입사원'], ['최', '체육특기자', '담당 교사', '아빠', '정윤회'], ['강 모', '31', '입'], ['한국', '13시간', '신한', '우리은행', '14시간', '국민', 'KEB하나은행'], ['4대강'], ['중국', '공상은행', '전화', '일본', '미쓰비시UFJ은', '오전 6시 30분', '10초', '모시모시'], ['화성-12', '한 달', '5종', '미사일'], ['조', '수석'], ['목격자', '상인', '4층'], ['서이종', '서울대', '교수', '신입사원'], ['민정수석', '인사추천위원'], ['장하성', '신임 실장', '광주', '경기고', '펜실베니아대', '경영학', '박사'], ['119구급대', '의료진', '77분간', '한 차례', '8000번', '가슴', '심폐소생술', '환자'], ['北', 'IRBM', '지대공·지대함 미사일', 'ICBM'], ['북한', '무인기', '미국', '무인정찰기', '글로벌호크', '주한미군'], ['윤', '1일', '일주일 동안', '매일'], ['무인기', '미국', '중국', '일본', '스위스', '체코', '한국', '6개국'], ['상인', '경찰'], ['A2', '오키나와', '미국', '전진기지', '항모강습단', '미군', '서태평양'], ['북한', '지난달 14일 이후', '5종', '미사일', '유사시', '한반도', '미군', '한국', '미사일방어체계(KAMD)'], ['전문가', '입찰 제도'], ['AD', '대만해협', '동', '남중국해', '중국', '미군', '동맹군'], ['의료진'], ['니콘', 'D800', '카메라', '니콘', '35㎜'], ['문', '대통령', '두 분', '두 분', '정부'], ['경찰', '국과수', '이날', '오전부터', '2차'], ['서울', '강남구', '삼성동', '홍실아파트', '108㎡', '16억 9000만 원', '8층'], ['국민경제자문회', '부의장', '김광두', '70', '서강대', '경제학과', '석좌교수'], ['보청기', '휠체어', '장애인', '시력 보정용 안경', '콘택트렌즈'], ['경비원', '경찰'], ['건설사', '임원', '4대강 사업', '건설사', '과태료'], [], ['2014년', '심근경색', '이건희', '삼성전자', '회장'], ['인제', '무인기', '백령도', '무인기', '4행정'], [], ['2학년', '황', '교사', '정', '학생'], ['아시아정당 국제회의', '상임위원장'], ['연말정산 서비스'], ['정양석', '바른정당', '원내수석부대표', '뉴시스', '민정수석', '비서실장', '민정수석'], ['1분', '100~120회', '흉부', '5~6cm'], ['정', '고 2', '체육특기자', '담당 교사', '송', '교사', '정', '1년', '4회 이상', '최', '학교', '교육부', '장관'], ['119장', '19장', '100장', '소청도', '대청도', '군부대'], ['올해', '부양가족'], ['4대강 사업'], ['시 교육청'], ['연말정산 간소화 서비스'], ['문', '대통령', '헌법', '자문회의', '김', '부의장', '대한민국', '경제학자', '손'], ['서울'], ['연말정산간소화 서비스', '17일까지', '홈택스'], ['윤모', '28', '1년', '지난달'], ['최순실', '61', '딸', '정유라', '21', '서울', '청담고', '교사', '학생', '최', '모녀'], ['조', '수석', '국회 운영위원회'], ['2012년', '23.6%', '2014년', '25.2%'], ['1∼2년 차', '직장인'], ['인터넷', '부동산 관련 카페', '4월', '1억 원', '눈'], ['팀장'], [], ['외교안보실장', '문정인', '66', '연세대', '명예특임 교수', '대미 특사', '홍석현', '68', '중앙일보', 'JTBC', '사장', '대통령', '통일외교안보특보'], ['무인기', '4㎏', '폭약', '1∼2m'], ['청와대', '조', '수석'], ['강경화', '장관', '후보자', '서울', '이화여고', '매사추세츠대학', '커뮤니케이션', '박사'], ['한국', '소비자', 'ARS', '상담원'], ['근로자'], [], ['김동엽', '경남대', '극동문제연구소', '교수', '북한', '미사일', '중국', 'A2/AD(반접근 지역거부)', '북한'], ['올해부터', '국민연금', '건강보험료', '4대', '보험료', '근로자'], ['담임', '정'], ['2학년', '학생', '친구'], ['지난달 29일', '스커드', '미사일', '명중률'], ['종합주가지수', '코스피', '글로벌 금융 위기', '2085포인트', '2007년 11월 1일', '13%'], ['상사'], ['맞춤형 원천징수제도', '원천징수세액', '80%', '근로자', '연말'], ['1·2때', '126일', '137일'], ['한국', '365일', '24시간'], ['전날', '오전 1시 36분', '소래포구', '어시장', '2시간 30분'], ['2015년', '70여 개', '2000여 개'], ['인도', '미국', '인건비', '중국', '한국', '야간', '휴일'], ['같은 해', '3월 31일', '백령도', '무인기', '시속 100∼120㎞', '1.8㎞'], ['이윤정', '심장', '내과', '의사', '내일', '근육통', '임', '가슴팍'], ['국세청', '20일'], [], ['조', '수석', '비서실장'], ['임', '어머니', '정순자', '62', '의사', '선생', '아들'], ['주한미군', '사드', '미군', '북한', '무인기', '관계자'], ['한 대형건설사', '임원', '대선', '4대강 무용론', '22일', '문재인', '대통령', '4대강'], ['올해부터', '4대', '보험료', '홈택스', '시력 보정용 안경', '근로자', '13월'], ['팀장'], ['법원', '4대강 사업', '건설사', '244억 원', '수자원공사', '손'], ['정우택', '자유한국당', '대표 권한대행', '원내대표', '조', '수석', '청와대', '정부'], ['자유한국당', '한', '의원', '뉴시스', '민정수석'], ['2학년', '경제', '송', '교사', '아이돌', '연습생', '정유라'], ['인사추천위', '안경환', '법무부', '장관', '후보자'], ['김', '후보자', '국민', '기획예산처', '재정부', '조정', '적임자'], ['김광두', '부의장', '전남', '나주', '광주제일고', '하와이대', '경제학', '박사'], ['2천여만 원', '北', '무인기'], ['임', '의료진', '전기 충격 요법'], ['한국경영자총협회', '경총', '지난해 6월', '306개', '신입사원', '1년', '신입사원', '27.7%'], ['청와대', '20일', '민정수석'], ['건설사', '정부'], ['1학년', '과학', '오', '교사', '한 학기', '1~2번'], ['10대', '중국', '건설은행', '미국', '뱅크오브아메리카', '두 곳', '8개', '상담원'], ['6억여 원', '소방서', '인천', '소래포구 어시장 화재사고', '경찰', '목격자'], ['정', '원내수석', '조', '수석'], ['신입사원'], ['구급대원', '심폐소생술', 'CPR'], ['연말정산 서비스', '국세 상담센터', '126'], ['지난 8일', '강원도', '인제', '주민', '무인기', '내장 카메라', '일본', '소니사', 'DSLT', '메모리', '3.2GB', '경북', '성주'], ['홈택스', '스마트폰', '애플리케이션', '연말'], ['관계자', '서울', '수도권'], ['북한', 'IRBM', '화성-12', '3∼4개', 'ICBM'], ['20.0%', '15.9%'], ['의료진', '오후 4시 37분', '임', '심장', '혈관', '인공 심박동기', '인공호흡기', '혈액 투석 장치'], ['KAMD', '미사일'], ['전화'], ['193장', '15장', '검은색', '178장'], ['한국', '신용카드', '열 단계', '상담원'], ['소방당국', '6억5천만원'], ['정의용', '신임 실장', '서울', '서울고', '서울대', '외교학과'], ['한국', '기업지배구조 개선운동', '한국', '공직', '정부', '정치권'], ['북한', '미사일', '중국', '반접근 지역거부(A2/AD)', '북한', '전문가'], ['김동연', '부총리', '후보자', '충북', '음성', '드라마'], ['4대강 사업', '담합비리', '검찰', '2013년 9월', '11개', '건설사', '임원', '22명'], ['맞벌이 부부', '근로자'], ['전화', '소비자', '1분당', '약 30원'], ['국세청', '16일', '18일', '부가가치세', '25일', '홈택스'], ['지난 3월', '한국수자원공사', '4대강', '건설사', '1차'], ['북극성-2', '560여㎞', '500㎞'], ['ECMO', '환자', '정맥', '동맥', '환자'], ['건설사', '2심'], ['문', '대통령', '강', '후보자', '외무고시', '외교부', '첫', '여성 국장', '유엔', '최고위직', '한국', '2006년부터', '유엔', '적임자'], ['새벽', '상인', '소래포구', '어시장', '220여 개', '20여 곳'], ['26일', '부동산114', '이번 주', '서울', '1주일 전', '0.3%', '작년 10월 이후'], ['신입사원'], ['근로자'], ['경찰', '국립과학수사연구원', '요원', '전날', '경찰', 'TV'], ['밤', '미국', '10대', '8개', '상담원'], ['인천', '남동', '경찰서', '18일', '인천시', '남동구', '논현동', '소래포구 어시장 화재사고', '목격자', '3명', '19일'], ['근로자', '공인인증서', '홈택스', '연말정산 간소화 서비스', '보험료', '주택자금', '세액공제', '14개'], ['지난달', '3층', '14억 원'], ['의료진', '심폐소생 시술', '20분', '30분'], ['합참', '무인기', '북한'], ['1학년', '담임교사', '친구'], ['지난달 14일', '중거리탄도미사일(IRBM)', '화성-12', '같은 달 21일', '준중거리탄도미사일(MRBM)', '북극성-2형', '27일', 'KN-06 지대공미사일', '29일', '스커드', '탄도미사일', '대함 순항미사일'], ['휴일', '상담원'], ['임병철', '부동산114', '책임연구원', '문재인', '정부', '도시 재생 정책'], ['4대강', '담합 비리', '과징금', '2중', '3중'], ['근로자', '난임', '700만 원'], ['김민형', '한국건설산업연구원', '연구위원', '입찰 담합 제제'], ['무인기', '중앙처리장치', 'CPU', '카메라', '소형컴퓨터'], ['지대함 순항미사일'], ['임', '1주일'], ['한 관계자', '13일', '무인기', '카메라', '북한', '군사분계선', 'MDL', '경북', '성주', '북한'], ['30대', '직장인', '신용카드', '전화'], ['청와대', '대통령', '비서실장', '위원장', '인사추천위원회', '조', '수석'], ['2주', '최', '담임', '한마디', '아빠', '정윤회'], ['이분법', '김', '부의장', '헌법', '국민'], ['경찰', '관계자', '목격자', '3명', 'CCTV'], ['25일', '오전 6~7시', '한국', '한국', '전화', '4대'], ['북한', '열병식', '미사일', '대륙간탄도미사일(ICBM)'], ['북한', '미사일', '열병식'], ['국세청', '홈택스', '연말정산 간소화 서비스'], ['심근경색', '환자', '임중수', '36', '지난달 23일', '오후 2시 20분', '서울', '신촌', '세브란스병원'], ['경찰', 'CCTV', '4개', '332개', '30% 이상', '한 곳'], ['담임', '황', '교사', '연습생', '학교'], ['지난달', '한국', '첫', '인터넷', '케이뱅크', 'Kbank', '한 곳', '상담원', '24시간'], ['14개'], ['청와대', '민정수석'], [], ['위', '교수', '의료진', '하나', '환자', '한 사람', '가족'], ['이남수', '신한금융투자', '부동산팀장', '하반기', '정부'], ['북한', '노동신문', '지난달 31일', '수뇌부', '대륙간탄도로켓'], ['한', '동창생', '예체능', '친구', '정유라'], ['오후 3시 30분', '임', 'ECMO'], ['인사추천위', '비서실장', '위원장', '인사수석', '간사'], ['교사', '정', '학생'], ['화성-12', '2천110여㎞', '780여㎞', '30∼45도', '4천500∼5천㎞'], ['황', '교사', '학생', '자식', '엄마', '국가대표', '정'], ['문', '대통령', '이날', '청와대', '춘추관', '정부', '국민'], ['북한', '무인기', 'GPS', '인공위성'], ['77분간', '임', '가슴', '8000여 번', '의료진', '심폐소생술'], ['대법원', '5000만~7500만 원', '벌금형'], ['2014년 3월 24일', '경기도', '파주', '북한', '무인기', '서울', '7∼9초', '서울', '청와대'], ['19일', '서울시교육청', '국회', '김병욱', '더불어민주당', '의원', '청담고', '지난해 11월'], ['동창생', '아침', '옆', '친구'], ['건설사', '협의체', '운영위원', '건설사', '임원', '징역 2년', '임원', '18명', '징역 8월', '2년', '집행유예', '1∼3년'], ['오후 4시'], ['전문가'], ['전화'], ['日', '10초', '한국', '10단계'], ['서울'], ['문', '대통령', '장', '실장', '한국', '경제학', '석학', '운동가', '국민', '적임자'], ['캐논', '카메라', '24㎜'], ['청와대', '국가안보실', '정의용', '71', '아시아정당 국제회의', '상임위원장', '장하성', '64', '고려대', '경영학과', '교수'], ['지난해', '연말정산 서비스', '15일부터'], ['한국신문협회', '고문'], ['2기', '사드체계'], ['문', '대통령', '후보', '민관 전문가'], ['이택광', '경희대', '교수', '직장인', '직장인', '고문관'], ['신입사원'], ['한국 은행'], ['배우자', '난임'], ['벌금', '7500만 원', '건설산업기본법'], ['4대강', '법정'], ['황', '교사'], ['미국', '주재원', '지난해', '미국', '전화'], ['한 달', '1억'], ['최', '학교', '교사'], ['임종석', '대통령', '비서실장', '인사추천위', '1차', '인사추천위', '정부', '인사위원회', '수석비서관', '비서실장', '비서실장'], ['건설사', '지난 2008년', '정부', '4대강 공사 계획', '건설사'], ['심폐소생술'], ['정', '원내수석', '국민', '국회', '청와대', '조', '수석'], []]\n",
            "[['LCP_COUNTRY', 'DT_OTHERS', 'AF_TRANSPORT', 'LCP_COUNTY'], ['DT_DURATION', 'LCP_CAPITALCITY', 'QT_SIZE', 'QT_PRICE', 'QT_PRICE', 'QT_PERCENTAGE', 'TR_SOCIAL_SCIENCE', 'TR_SOCIAL_SCIENCE', 'QT_PRICE', 'QT_PRICE', 'QT_PERCENTAGE'], ['CV_POSITION', 'CV_POLICY'], ['TR_MEDICINE', 'TI_MINUTE', 'TM_CELL_TISSUE', 'FD_MEDICINE', 'PS_NAME', 'CV_OCCUPATION', 'TMI_HW', 'TMI_HW'], ['AF_WEAPON', 'DT_OTHERS', 'LCP_CAPITALCITY', 'PS_NAME', 'QT_ORDER', 'EV_OTHERS', 'TM_SHAPE', 'QT_COUNT', 'AF_WEAPON'], ['LCP_COUNTRY', 'DT_OTHERS', 'TI_HOUR', 'CV_OCCUPATION'], ['DT_DURATION', 'DT_OTHERS'], ['PS_NAME', 'OGG_EDUCATION', 'OGG_EDUCATION', 'CV_OCCUPATION', 'DT_DURATION', 'CV_POSITION', 'CV_POSITION'], ['LCP_COUNTRY', 'OGG_MEDIA', 'AF_WEAPON', 'LCP_COUNTY', 'TM_DIRECTION', 'TMI_HW', 'TM_DIRECTION'], ['OGG_ECONOMY', 'CV_POSITION', 'CV_OCCUPATION', 'DT_DURATION', 'QT_PERCENTAGE'], ['DT_DURATION', 'QT_PRICE', 'QT_PERCENTAGE'], ['LCP_COUNTRY', 'AF_TRANSPORT', 'LCP_COUNTRY'], ['TMI_HW', 'CV_POSITION'], ['DT_OTHERS', 'CV_POSITION'], ['LCP_COUNTRY', 'TI_DURATION', 'CV_OCCUPATION', 'TMI_HW'], ['PS_NAME', 'CV_RELATION', 'CV_RELATION', 'CV_RELATION', 'CV_RELATION'], ['LCP_COUNTRY', 'AF_TRANSPORT', 'AF_WEAPON', 'AF_WEAPON', 'LCP_PROVINCE', 'LCP_COUNTY', 'LCP_COUNTRY'], [], ['CV_OCCUPATION', 'LCP_COUNTRY'], ['PS_NAME', 'CV_POSITION', 'LCP_CAPITALCITY', 'OGG_EDUCATION', 'OGG_EDUCATION'], ['CV_POSITION', 'CV_RELATION', 'CV_RELATION'], ['LCP_COUNTY', 'AF_TRANSPORT', 'QT_LENGTH', 'LCP_COUNTY', 'LCP_COUNTRY', 'DT_OTHERS', 'OGG_MEDIA'], ['DT_OTHERS', 'DT_DURATION', 'OGG_ECONOMY'], ['DT_OTHERS', 'QT_PRICE', 'DT_DURATION', 'QT_PRICE'], ['TR_MEDICINE', 'TI_MINUTE', 'CV_OCCUPATION'], ['DT_SEASON', 'OGG_POLITICS'], ['OGG_POLITICS', 'EV_OTHERS', 'CV_POSITION', 'QT_MAN_COUNT'], ['OGG_EDUCATION', 'CV_POLICY', 'CV_POLICY'], ['CV_POSITION', 'CV_POSITION', 'PS_NAME'], ['OGG_POLITICS'], ['PS_NAME', 'CV_POSITION', 'PS_NAME', 'CV_POSITION'], ['LCP_CITY', 'LCP_CITY', 'LCG_ISLAND', 'LCP_COUNTRY', 'AF_TRANSPORT', 'QT_WEIGHT', 'TMI_HW', 'AF_TRANSPORT', 'QT_WEIGHT'], ['OGG_POLITICS', 'TMI_PROJECT'], ['CV_OCCUPATION', 'QT_MAN_COUNT', 'PS_NAME', 'TR_MEDICINE', 'CV_POSITION'], ['PS_NAME', 'OGG_EDUCATION', 'CV_OCCUPATION', 'CV_OCCUPATION', 'QT_COUNT', 'TM_CELL_TISSUE', 'CV_POLICY'], ['PS_NAME', 'CV_POSITION'], ['CV_POSITION'], ['DT_DURATION', 'PS_NAME', 'DT_DAY'], ['LCP_COUNTRY', 'AF_TRANSPORT', 'OGG_POLITICS', 'OGG_MILITARY'], ['PS_NAME', 'OGG_POLITICS', 'CV_POSITION', 'OGG_MEDIA', 'PS_NAME', 'CV_POSITION'], ['OGG_POLITICS', 'PS_NAME', 'CV_POSITION', 'DT_YEAR', 'QT_MAN_COUNT', 'TR_MEDICINE'], ['OG_OHTERS', 'CV_POSITION', 'OG_OHTERS', 'OGG_POLITICS', 'QT_COUNT', 'PS_NAME', 'CV_POSITION'], ['TMI_SERVICE', 'CV_POSITION'], ['PS_NAME', 'CV_POSITION', 'LCP_PROVINCE', 'OGG_EDUCATION', 'OGG_EDUCATION', 'FD_SOCIAL_SCIENCE', 'CV_POSITION'], ['CV_OCCUPATION', 'CV_POSITION'], ['PS_NAME', 'CV_POSITION', 'CV_POSITION', 'CV_RELATION', 'PS_NAME'], ['PS_NAME', 'QT_AGE', 'AM_PART'], ['LCP_COUNTRY', 'TI_DURATION', 'OGG_ECONOMY', 'OGG_ECONOMY', 'TI_DURATION', 'CV_POSITION', 'OGG_SPORTS'], ['QT_COUNT'], ['LCP_COUNTRY', 'OGG_ECONOMY', 'TMI_HW', 'LCP_COUNTRY', 'OGG_ECONOMY', 'TI_OTHERS', 'TI_DURATION', 'PS_NAME'], ['AF_WEAPON', 'DT_DURATION', 'QT_COUNT', 'AF_WEAPON'], ['PS_NAME', 'CV_POSITION'], ['CV_POSITION', 'CV_OCCUPATION', 'QT_ORDER'], ['PS_NAME', 'OGG_EDUCATION', 'CV_OCCUPATION', 'CV_POSITION'], ['CV_POSITION', 'CV_POSITION'], ['PS_NAME', 'CV_POSITION', 'LCP_CITY', 'OGG_EDUCATION', 'OGG_EDUCATION', 'FD_SOCIAL_SCIENCE', 'CV_POSITION'], ['OGG_POLITICS', 'CV_POSITION', 'TI_DURATION', 'QT_COUNT', 'QT_COUNT', 'AM_PART', 'TR_MEDICINE', 'CV_POSITION'], ['LCP_COUNTRY', 'TR_SCIENCE', 'AF_WEAPON', 'AF_WEAPON'], ['LCP_COUNTRY', 'AF_TRANSPORT', 'LCP_COUNTRY', 'AF_TRANSPORT', 'AF_TRANSPORT', 'OGG_MILITARY'], ['PS_NAME', 'DT_DAY', 'DT_DURATION', 'DT_OTHERS'], ['AF_TRANSPORT', 'LCP_COUNTRY', 'LCP_COUNTRY', 'LCP_COUNTRY', 'LCP_COUNTRY', 'LCP_COUNTRY', 'LCP_COUNTRY', 'QT_COUNT'], ['CV_OCCUPATION', 'OGG_POLITICS'], ['QT_OTHERS', 'LCP_CITY', 'LCP_COUNTRY', 'OGG_MILITARY', 'OGG_MILITARY', 'OGG_MILITARY', 'LCG_OCEAN'], ['LCP_COUNTRY', 'DT_OTHERS', 'QT_COUNT', 'AF_WEAPON', 'DT_OTHERS', 'LCG_BAY', 'OGG_MILITARY', 'LCP_COUNTRY', 'TR_SCIENCE'], ['CV_OCCUPATION', 'CV_POLICY'], ['CV_POLICY', 'LCG_OCEAN', 'TM_DIRECTION', 'LCG_OCEAN', 'LCP_COUNTRY', 'OGG_MILITARY', 'OGG_MILITARY'], ['CV_POSITION'], ['OGG_ECONOMY', 'TMI_MODEL', 'TMI_HW', 'OGG_ECONOMY', 'QT_LENGTH'], ['PS_NAME', 'CV_POSITION', 'QT_MAN_COUNT', 'QT_MAN_COUNT', 'OGG_POLITICS'], ['OGG_POLITICS', 'OGG_POLITICS', 'DT_DAY', 'TI_OTHERS', 'QT_ORDER'], ['LCP_CAPITALCITY', 'LCP_COUNTY', 'LCP_COUNTY', 'AF_BUILDING', 'QT_SIZE', 'QT_PRICE', 'QT_ORDER'], ['OGG_POLITICS', 'CV_POSITION', 'PS_NAME', 'QT_AGE', 'OGG_EDUCATION', 'OGG_EDUCATION', 'CV_POSITION'], ['AF_WARES', 'AF_TRANSPORT', 'CV_POSITION', 'AF_WARES', 'AF_WARES'], ['CV_OCCUPATION', 'OGG_POLITICS'], ['OG_OHTERS', 'CV_POSITION', 'TMI_PROJECT', 'OG_OHTERS', 'CV_LAW'], [], ['DT_YEAR', 'TMM_DISEASE', 'PS_NAME', 'OGG_ECONOMY', 'CV_POSITION'], ['LCP_COUNTY', 'AF_TRANSPORT', 'LCG_ISLAND', 'AF_TRANSPORT', 'QT_COUNT'], [], ['QT_ORDER', 'PS_NAME', 'CV_OCCUPATION', 'PS_NAME', 'CV_OCCUPATION'], ['OGG_POLITICS', 'CV_POSITION'], ['TMI_SERVICE'], ['PS_NAME', 'OGG_POLITICS', 'CV_POSITION', 'OGG_MEDIA', 'CV_POSITION', 'CV_POSITION', 'CV_POSITION'], ['TI_MINUTE', 'QT_COUNT', 'AM_PART', 'QT_LENGTH'], ['PS_NAME', 'QT_AGE', 'CV_POSITION', 'CV_OCCUPATION', 'PS_NAME', 'CV_OCCUPATION', 'PS_NAME', 'DT_DURATION', 'QT_COUNT', 'PS_NAME', 'OGG_EDUCATION', 'OGG_POLITICS', 'CV_POSITION'], ['QT_COUNT', 'QT_COUNT', 'QT_COUNT', 'LCG_ISLAND', 'LCG_ISLAND', 'OGG_MILITARY'], ['DT_YEAR', 'CV_RELATION'], ['TMI_PROJECT'], ['OGG_POLITICS'], ['TMI_SERVICE'], ['PS_NAME', 'CV_POSITION', 'CV_LAW', 'OGG_LAW', 'PS_NAME', 'CV_POSITION', 'LCP_COUNTRY', 'CV_OCCUPATION', 'AM_PART'], ['LCP_CAPITALCITY'], ['TMI_SERVICE', 'DT_OTHERS', 'TMI_SERVICE'], ['PS_NAME', 'QT_AGE', 'DT_DURATION', 'DT_MONTH'], ['PS_NAME', 'QT_AGE', 'CV_RELATION', 'PS_NAME', 'QT_AGE', 'LCP_CAPITALCITY', 'OGG_EDUCATION', 'CV_OCCUPATION', 'CV_OCCUPATION', 'PS_NAME', 'CV_RELATION'], ['PS_NAME', 'CV_POSITION', 'OGG_POLITICS'], ['DT_YEAR', 'QT_PERCENTAGE', 'DT_YEAR', 'QT_PERCENTAGE'], ['DT_DURATION', 'CV_OCCUPATION'], ['TMI_SERVICE', 'TMI_SERVICE', 'DT_MONTH', 'QT_PRICE', 'AM_PART'], ['CV_POSITION'], [], ['CV_POSITION', 'PS_NAME', 'QT_AGE', 'OGG_EDUCATION', 'CV_OCCUPATION', 'CV_POSITION', 'PS_NAME', 'QT_AGE', 'OGG_MEDIA', 'OGG_MEDIA', 'CV_POSITION', 'CV_POSITION', 'CV_POSITION'], ['AF_TRANSPORT', 'QT_WEIGHT', 'AF_WEAPON', 'QT_LENGTH'], ['OGG_POLITICS', 'PS_NAME', 'CV_POSITION'], ['PS_NAME', 'CV_POSITION', 'CV_POSITION', 'LCP_CAPITALCITY', 'OGG_EDUCATION', 'OGG_EDUCATION', 'FD_OTHERS', 'CV_POSITION'], ['LCP_COUNTRY', 'CV_POSITION', 'TR_SCIENCE', 'CV_POSITION'], ['CV_POSITION'], [], ['PS_NAME', 'OGG_EDUCATION', 'OG_OTHERS', 'CV_OCCUPATION', 'LCP_COUNTRY', 'AF_WEAPON', 'LCP_COUNTRY', 'CV_POLICY', 'LCP_COUNTRY'], ['DT_OTHERS', 'CV_FUNDS', 'CV_TAX', 'QT_COUNT', 'CV_TAX', 'CV_POSITION'], ['CV_POSITION', 'PS_NAME'], ['QT_ORDER', 'CV_OCCUPATION', 'CV_RELATION'], ['DT_OTHERS', 'AF_WEAPON', 'AF_WEAPON', 'QT_PERCENTAGE'], ['TR_SOCIAL_SCIENCE', 'TR_SOCIAL_SCIENCE', 'EV_OTHERS', 'QT_OTHERS', 'DT_OTHERS', 'QT_PERCENTAGE'], ['CV_RELATION'], ['CV_POLICY', 'CV_TAX', 'QT_PERCENTAGE', 'CV_POSITION', 'DT_DURATION'], ['DT_OTHERS', 'DT_DURATION', 'DT_DURATION'], ['LCP_COUNTRY', 'DT_DURATION', 'TI_DURATION'], ['DT_DAY', 'TI_OTHERS', 'LCP_COUNTY', 'LC_OTHERS', 'TI_DURATION'], ['DT_YEAR', 'QT_COUNT', 'QT_COUNT'], ['LCP_COUNTRY', 'LCP_COUNTRY', 'QT_PRICE', 'LCP_COUNTRY', 'LCP_COUNTRY', 'TI_DURATION', 'DT_DAY'], ['DT_YEAR', 'DT_OTHERS', 'LCG_ISLAND', 'AF_TRANSPORT', 'QT_SPEED', 'QT_LENGTH'], ['PS_NAME', 'TM_CELL_TISSUE', 'FD_MEDICINE', 'CV_OCCUPATION', 'DT_DAY', 'TMM_DISEASE', 'PS_NAME', 'AM_PART'], ['OGG_POLITICS', 'DT_DAY'], [], ['PS_NAME', 'CV_POSITION', 'CV_POSITION'], ['PS_NAME', 'CV_RELATION', 'PS_NAME', 'QT_AGE', 'CV_OCCUPATION', 'CV_POSITION', 'CV_RELATION'], ['OGG_MILITARY', 'AF_WEAPON', 'OGG_MILITARY', 'LCP_COUNTRY', 'AF_TRANSPORT', 'CV_POSITION'], ['CV_POSITION', 'CV_POSITION', 'EV_OTHERS', 'TR_SOCIAL_SCIENCE', 'DT_DAY', 'PS_NAME', 'CV_POSITION', 'QT_COUNT'], ['DT_OTHERS', 'QT_COUNT', 'CV_TAX', 'TMI_SERVICE', 'AF_WARES', 'CV_POSITION', 'DT_MONTH'], ['CV_POSITION'], ['OGG_LAW', 'TMI_PROJECT', 'OG_OHTERS', 'QT_PRICE', 'OGG_ECONOMY', 'AM_PART'], ['PS_NAME', 'OGG_ECONOMY', 'CV_POSITION', 'CV_POSITION', 'PS_NAME', 'CV_POSITION', 'OGG_POLITICS', 'OGG_POLITICS'], ['OGG_POLITICS', 'PS_NAME', 'CV_POSITION', 'OGG_MEDIA', 'CV_POSITION'], ['QT_ORDER', 'FD_SOCIAL_SCIENCE', 'PS_NAME', 'CV_OCCUPATION', 'CV_POSITION', 'CV_POSITION', 'PS_NAME'], ['OGG_POLITICS', 'PS_NAME', 'OGG_POLITICS', 'CV_POSITION', 'CV_POSITION'], ['PS_NAME', 'CV_POSITION', 'CV_POSITION', 'OGG_POLITICS', 'OGG_POLITICS', 'PS_NAME', 'CV_POSITION'], ['PS_NAME', 'CV_POSITION', 'LCP_PROVINCE', 'LCP_CITY', 'OGG_EDUCATION', 'OGG_EDUCATION', 'FD_SOCIAL_SCIENCE', 'CV_POSITION'], ['QT_PRICE', 'LCP_COUNTRY', 'AF_TRANSPORT'], ['PS_NAME', 'CV_POSITION', 'TR_MEDICINE'], ['OGG_ECONOMY', 'OGG_ECONOMY', 'DT_OTHERS', 'QT_COUNT', 'CV_POSITION', 'DT_DURATION', 'CV_POSITION', 'QT_PERCENTAGE'], ['OGG_POLITICS', 'DT_DAY', 'CV_POSITION'], ['OG_OHTERS', 'OGG_POLITICS'], ['QT_ORDER', 'FD_SCIENCE', 'PS_NAME', 'CV_OCCUPATION', 'DT_DURATION', 'QT_ORDER'], ['QT_COUNT', 'LCP_COUNTRY', 'OGG_ECONOMY', 'LCP_COUNTRY', 'OGG_ECONOMY', 'QT_COUNT', 'QT_COUNT', 'CV_OCCUPATION'], ['QT_PRICE', 'OGG_POLITICS', 'LCP_CITY', 'EV_OTHERS', 'OGG_POLITICS', 'CV_POSITION'], ['PS_NAME', 'CV_POSITION', 'PS_NAME', 'CV_POSITION'], ['CV_POSITION'], ['CV_OCCUPATION', 'TR_MEDICINE', 'TR_MEDICINE'], ['TMI_SERVICE', 'OGG_POLITICS', 'QT_PHONE'], ['DT_DAY', 'LCP_PROVINCE', 'LCP_COUNTY', 'CV_POSITION', 'AF_TRANSPORT', 'TMI_HW', 'LCP_COUNTRY', 'OGG_ECONOMY', 'TMI_MODEL', 'TMI_HW', 'QT_OTHERS', 'LCP_PROVINCE', 'LCP_COUNTY'], ['TMI_SERVICE', 'TMI_HW', 'TMI_SW', 'DT_DURATION'], ['CV_POSITION', 'LCP_CAPITALCITY', 'LC_OTHERS'], ['LCP_COUNTRY', 'AF_WEAPON', 'AF_WEAPON', 'QT_COUNT', 'AF_WEAPON'], ['QT_PERCENTAGE', 'QT_PERCENTAGE'], ['CV_POSITION', 'TI_OTHERS', 'PS_NAME', 'TM_CELL_TISSUE', 'TM_CELL_TISSUE', 'TMI_HW', 'TMI_HW', 'TMI_HW'], ['AF_WEAPON', 'AF_WEAPON'], ['TMI_HW'], ['QT_COUNT', 'QT_COUNT', 'TM_COLOR', 'QT_COUNT'], ['LCP_COUNTRY', 'CV_CURRENCY', 'QT_OTHER', 'CV_OCCUPATION'], ['OGG_POLITICS', 'QT_PRICE'], ['PS_NAME', 'CV_POSITION', 'LCP_CAPITALCITY', 'OGG_EDUCATION', 'OGG_EDUCATION', 'OGG_EDUCATION'], ['LCP_COUNTRY', 'EV_ACTIVITY', 'LCP_COUNTRY', 'CV_POSITION', 'OGG_POLITICS', 'CV_LAW'], ['LCP_COUNTRY', 'AF_WEAPON', 'LCP_COUNTRY', 'CV_POLICY', 'LCP_COUNTRY', 'CV_OCCUPATION'], ['PS_NAME', 'CV_POSITION', 'CV_POSITION', 'LCP_PROVINCE', 'LCP_COUNTY', 'FD_ART'], ['TMI_PROJECT', 'CV_LAW', 'OGG_POLITICS', 'DT_OTHERS', 'QT_COUNT', 'OG_OHTERS', 'CV_POSITION', 'QT_MAN_COUNT'], ['CV_RELATION', 'CV_POSITION'], ['TMI_HW', 'CV_POSITION', 'QT_COUNT', 'QT_PRICE'], ['OGG_POLITICS', 'DT_DAY', 'DT_DAY', 'CV_TAX', 'DT_DAY', 'TMI_SERVICE'], ['DT_MONTH', 'OGG_ECONOMY', 'QT_COUNT', 'OG_OHTERS', 'QT_ORDER'], ['LC_SPACE', 'QT_LENGTH', 'QT_LENGTH'], ['TMI_HW', 'CV_POSITION', 'TM_CELL_TISSUE', 'TM_CELL_TISSUE', 'CV_POSITION'], ['OG_OHTERS', 'QT_ORDER'], ['PS_NAME', 'CV_POSITION', 'PS_NAME', 'CV_POSITION', 'CV_POLICY', 'OGG_POLITICS', 'QT_ORDER', 'CV_POSITION', 'OGG_POLITICS', 'CV_POSITION', 'LCP_COUNTRY', 'DT_OTHERS', 'OGG_POLITICS', 'CV_POSITION'], ['TI_DURATION', 'CV_OCCUPATION', 'LCP_COUNTY', 'LC_OTHERS', 'QT_COUNT', 'QT_COUNT'], ['DT_DAY', 'OGG_ECONOMY', 'DT_OTHERS', 'LCP_CAPITALCITY', 'DT_OTHERS', 'QT_PERCENTAGE', 'DT_OTHERS'], ['CV_POSITION'], ['CV_POSITION'], ['OGG_POLITICS', 'OGG_POLITICS', 'CV_POSITION', 'DT_DAY', 'OGG_POLITICS', 'TMI_HW'], ['TI_DURATION', 'LCP_COUNTRY', 'QT_AGE', 'QT_COUNT', 'CV_OCCUPATION'], ['LCP_CITY', 'LCP_COUNTY', 'OGG_POLITICS', 'DT_DAY', 'LCP_CITY', 'LCP_COUNTY', 'LCP_COUNTY', 'EV_OTHERS', 'CV_POSITION', 'QT_MAN_COUNT', 'DT_DAY'], ['CV_POSITION', 'TMI_SERVICE', 'TMI_SERVICE', 'TMI_SERVICE', 'CV_TAX', 'CV_FUNDS', 'CV_TAX', 'QT_COUNT'], ['DT_MONTH', 'QT_ORDER', 'QT_PRICE'], ['CV_POSITION', 'TR_MEDICINE', 'TI_MINUTE', 'TI_MINUTE'], ['OGG_MILITARY', 'AF_TRANSPORT', 'LCP_COUNTRY'], ['QT_ORDER', 'CV_POSITION', 'CV_RELATION'], ['DT_OTHERS', 'AF_WEAPON', 'AF_WEAPON', 'DT_OTHERS', 'AF_WEAPON', 'AF_WEAPON', 'DT_DAY', 'AF_WEAPON', 'DT_DAY', 'AF_WEAPON', 'AF_WEAPON', 'AF_WEAPON'], ['DT_DAY', 'CV_POSITION'], ['PS_NAME', 'OGG_ECONOMY', 'CV_POSITION', 'PS_NAME', 'OGG_POLITICS', 'CV_LAW'], ['QT_COUNT', 'CV_LAW', 'CV_LAW', 'QT_COUNT', 'QT_COUNT'], ['CV_POSITION', 'TMM_DISEASE', 'QT_PRICE'], ['PS_NAME', 'OGG_ECONOMY', 'CV_POSITION', 'CV_POLICY'], ['AF_TRANSPORT', 'TMI_HW', 'TMI_HW', 'TMI_HW', 'TMI_HW'], ['AF_WEAPON'], ['PS_NAME', 'DT_DURATION'], ['QT_MAN_COUNT', 'DT_DAY', 'AF_TRANSPORT', 'TMI_HW', 'LCP_COUNTRY', 'LC_OTHERS', 'LC_OTHERS', 'LCP_PROVINCE', 'LCP_COUNTY', 'LCP_COUNTRY'], ['QT_AGE', 'CV_OCCUPATION', 'CV_CURRENCY', 'CV_CURRENCY'], ['OGG_POLITICS', 'CV_POSITION', 'CV_POSITION', 'CV_POSITION', 'OGG_POLITICS', 'PS_NAME', 'CV_POSITION'], ['DT_DURATION', 'PS_NAME', 'CV_POSITION', 'QT_COUNT', 'CV_RELATION', 'PS_NAME'], ['TR_SCIENCE', 'PS_NAME', 'CV_POSITION', 'CV_LAW', 'CV_POSITION'], ['OGG_POLITICS', 'CV_POSITION', 'CV_POSITION', 'QT_MAN_COUNT', 'TMI_HW'], ['DT_DAY', 'TI_DURATION', 'LCP_COUNTRY', 'LCP_COUNTRY', 'TMI_HW', 'QT_COUNT'], ['LCP_COUNTRY', 'EV_OTHERS', 'AF_WEAPON', 'AF_WEAPON'], ['LCP_COUNTRY', 'AF_WEAPON', 'EV_OTHERS'], ['OGG_POLITICS', 'TMI_SERVICE', 'TMI_SERVICE'], ['TMM_DISEASE', 'CV_POSITION', 'PS_NAME', 'QT_AGE', 'DT_OTHERS', 'TI_OTHERS', 'LCP_CAPITALCITY', 'LCP_COUNTY', 'OGG_MEDICINE'], ['OGG_POLITICS', 'TMI_HW', 'QT_COUNT', 'QT_COUNT', 'QT_PERCENTAGE', 'QT_COUNT'], ['CV_POSITION', 'PS_NAME', 'CV_OCCUPATION', 'CV_POSITION', 'OGG_EDUCATION'], ['DT_MONTH', 'LCP_COUNTRY', 'QT_ORDER', 'TMI_SERVICE', 'OGG_ECONOMY', 'TR_SCIENCE', 'QT_COUNT', 'CV_OCCUPATION', 'TI_DURATION'], ['QT_COUNT'], ['OGG_POLITICS', 'CV_POSITION'], [], ['PS_NAME', 'CV_OCCUPATION', 'CV_POSITION', 'QT_COUNT', 'CV_POSITION', 'QT_MAN_COUNT', 'CV_RELATION'], ['PS_NAME', 'OGG_ECONOMY', 'CV_POSITION', 'DT_DURATION', 'OGG_POLITICS'], ['LCP_COUNTRY', 'OGG_MEDIA', 'DT_OTHERS', 'OGG_POLITICS', 'AF_WEAPON'], ['QT_COUNT', 'CV_RELATION', 'FD_OTHERS', 'CV_RELATION', 'PS_NAME'], ['TI_OTHERS', 'PS_NAME', 'TMI_HW'], ['OGG_POLITICS', 'CV_POSITION', 'CV_POSITION', 'CV_POSITION', 'CV_POSITION'], ['CV_OCCUPATION', 'PS_NAME', 'CV_OCCUPATION'], ['AF_WEAPON', 'QT_LENGTH', 'QT_LENGTH', 'QT_OTHERS', 'QT_OTHERS'], ['PS_NAME', 'CV_OCCUPATION', 'CV_OCCUPATION', 'CV_RELATION', 'CV_RELATION', 'CV_POSITION', 'PS_NAME'], ['PS_NAME', 'CV_POSITION', 'DT_DAY', 'OGG_POLITICS', 'AF_BUILDING', 'OGG_POLITICS', 'CV_POSITION'], ['LCP_COUNTRY', 'AF_TRANSPORT', 'TMI_HW', 'TMI_HW'], ['TI_DURATION', 'PS_NAME', 'AM_PART', 'QT_COUNT', 'CV_POSITION', 'TR_MEDICINE'], ['OGG_LAW', 'QT_PRICE', 'CV_LAW'], ['DT_OTHERS', 'LCP_PROVINCE', 'LCP_CITY', 'LCP_COUNTRY', 'AF_TRANSPORT', 'LCP_CAPITALCITY', 'DT_DURATION', 'LCP_CAPITALCITY', 'OGG_POLITICS'], ['DT_DAY', 'OGG_POLITICS', 'OGG_POLITICS', 'PS_NAME', 'OGG_POLITICS', 'CV_POSITION', 'OGG_EDUCATION', 'DT_OTHERS'], ['CV_RELATION', 'TI_OTHERS', 'TM_DIRECTION', 'CV_RELATION'], ['OG_OHTERS', 'OGG_ECONOMY', 'CV_POSITION', 'OG_OHTERS', 'CV_POSITION', 'CV_LAW', 'CV_POSITION', 'QT_MAN_COUNT', 'CV_LAW', 'DT_DURATION', 'CV_LAW', 'DT_DURATION'], ['TI_HOUR'], ['CV_OCCUPATION'], ['TMI_HW'], ['LCP_COUNTRY', 'TI_DURATION', 'LCP_COUNTRY', 'QT_ORDER'], ['LCP_CAPITALCITY'], ['PS_NAME', 'CV_POSITION', 'PS_NAME', 'CV_POSITION', 'LCP_COUNTRY', 'FD_SOCIAL_SCIENCE', 'CV_POSITION', 'CV_OCCUPATION', 'CV_POSITION', 'CV_POSITION'], ['OGG_ECONOMY', 'TMI_HW', 'QT_LENGTH'], ['OGG_POLITICS', 'OGG_POLITICS', 'PS_NAME', 'QT_AGE', 'OGG_POLITICS', 'CV_POSITION', 'PS_NAME', 'QT_AGE', 'OGG_EDUCATION', 'OGG_EDUCATION', 'CV_OCCUPATION'], ['DT_YEAR', 'TMI_SERVICE', 'DT_OTHERS'], ['OGG_MEDIA', 'CV_POSITION'], ['QT_COUNT', 'AF_WEAPON'], ['PS_NAME', 'CV_POSITION', 'CV_POSITION', 'CV_OCCUPATION'], ['PS_NAME', 'OGG_EDUCATION', 'CV_OCCUPATION', 'CV_OCCUPATION', 'CV_OCCUPATION', 'CV_POSITION'], ['CV_POSITION'], ['OGG_ECONOMY'], ['CV_RELATION', 'TMM_DISEASE'], ['CV_LAW', 'QT_PRICE', 'CV_LAW'], ['QT_COUNT', 'OG_OHTERS'], ['PS_NAME', 'CV_OCCUPATION'], ['LCP_COUNTRY', 'CV_OCCUPATION', 'DT_YEAR', 'LCP_COUNTRY', 'TMI_HW'], ['DT_DURATION', 'QT_PRICE'], ['PS_NAME', 'OGG_EDUCATION', 'CV_OCCUPATION'], ['PS_NAME', 'CV_POSITION', 'CV_POSITION', 'OGG_POLITICS', 'QT_ORDER', 'OGG_POLITICS', 'OGG_POLITICS', 'OGG_POLITICS', 'CV_POSITION', 'CV_POSITION', 'CV_POSITION'], ['OG_OHTERS', 'DT_YEAR', 'OGG_POLITICS', 'QT_COUNT', 'OG_OHTERS'], ['TR_MEDICINE'], ['PS_NAME', 'CV_POSITION', 'CV_POSITION', 'OGG_POLITICS', 'OGG_POLITICS', 'PS_NAME', 'CV_POSITION'], []]\n",
            "[['위진', '교수', '환자'], ['청담고', '학생', '정'], ['한 명', '18일', '오전 1시 36분', '119', '상인'], ['유사시', '평양', '북한', '한미 연합군', '항공기', '미사일'], ['2008년', '글로벌 금융 위기'], ['대선', '4월 28일', '주간', '0.03%', '10배'], ['과징금', '호남고속철', '17개', '13개', '1사', '1공구', '건설사'], ['지난달 27일', '북한', '패트리엇', '번개 5호(KN-06)', '유도미사일', '150여㎞'], ['전문가', '대선'], ['이준용', '한국감정원', '시장분석연구부장', '서울', '부산', '세종', '서울', '수도권', '글로벌 금융 위기'], ['심장 발작', '30대', '심근경색', '77분', '심폐소생술'], ['태평양', '괌', '하와이', '미군', '태평양사령부'], [], ['1천㎞', '주일미군기지'], ['뼈', '직장인'], ['부양가족', '연말'], ['강동구', '둔촌동', '주공 1단지', '50㎡', '1층', '8억 5000만 원'], [], ['심폐소생술', '2008년', '1.8%', '2015년', '13.1%'], ['금융소비자연맹', '강형구', '금융 국장', '소비자'], ['9번', '항부정맥제'], ['경찰', '목격자', '2명', '어시장', '운영자', '어시장', '야간', '경비원'], ['1학년', '사회', '김', '교사', '예체능', '학생', '정'], ['경총', '신입사원', '2010년'], ['가산세'], ['지대지 미사일', '스커드 미사일', '유사시', '지대함 미사일', '자동화 시스템', '이동식 발사차량(TEL)', '미사일'], ['국세청', '홈택스', 'www.hometax.go.kr', '세액공제', '연말정산 간소화 서비스', '15일', '오전 9시부터', '12일'], ['미국', '소비자'], ['지난해'], ['청와대', '민정수석'], ['사드', '사격통제레이더', 'X-밴드 레이더', '검은색', '2장'], ['파주', '무인기', '시속 100∼120㎞', '2.5㎞'], [], ['후보자', '대한민국'], ['구급차', '세브란스병원', '의료진', '심폐소생술'], ['김동철', '국민의당', '원내대표', '안경환', '김상곤', '청와대', '조', '수석', '조', '수석'], ['2학년', '체육 교사', '학생'], ['5분'], ['문', '대통령', '정부'], ['임', '갈비뼈', '6~7개', '1~2도', '화상'], ['경찰', '상인', '변압기'], ['10여 분 뒤', '119구급대', '임'], ['북한', '무인기', '2천만 원', '4천만 원'], ['한국', '4대', '국민', '신한', '우리', 'KEB하나은행', '9개', '3대', '생명보험', '5대', '24시간', '365일'], ['학생', '같은 해', '학교'], ['IT', '정보기술', 'ARS', 'ARS', '직장인'], ['文', '대통령', '경제부총리', '김동연', '외교부', '장관', '강경화'], ['이낙연', '총리', '장관', '후보자', '문재인', '대통령', '후보', '5대', '안경환', '법무부', '장관', '후보자', '조', '수석'], ['경찰', '전날', '60여 대', 'TV'], ['북한', '8일', '강원도', '원산', '순항미사일', '미사일'], ['30분', '77분', '심장'], ['120%', '연말'], ['신입사원', '4명', '한 명', '직원', '아름다운 이별'], ['문재인', '대통령', '21일', '경제 사령탑', '경제부총리', '기획재정부', '장관', '후보자', '김동연', '60', '아주대', '총장', '외교부', '장관', '후보자', '강경화', '62', '유엔', '사무총장 정책특보'], ['정부'], ['핵', '사드', 'THAAD', '하나', '정', '실장', '적임자', '국민'], ['강', '2주 동안', '팀원', '얼굴'], ['ECMO', '심장혈관', '임'], ['고종완', '한국자산관리연구원장', '내년부터', '초과이익환수제'], ['한국전력공사', '관계자', '변압기'], ['청와대', '조', '수석'], ['한 기업', '인사 담당자', '사원', '한 명'], ['영어', '2학년', '최', '교사', '수학', '1박', '숙소', '엄마', '차'], ['한국', '소비자'], ['13월', '연말정산서비스', '15일']]\n",
            "[['PS_NAME', 'CV_OCCUPATION', 'CV_POSITION'], ['OGG_EDUCATION', 'CV_OCCUPATION', 'PS_NAME'], ['QT_MAN_COUNT', 'DT_DAY', 'TI_OTHERS', 'QT_PHONE', 'CV_OCCUPATION'], ['DT_OTHERS', 'LCP_CAPITALCITY', 'LCP_COUNTRY', 'OGG_MILITARY', 'AF_TRANSPORT', 'AF_WEAPON'], ['DT_YEAR', 'EV_OTHERS'], ['EV_OTHERS', 'DT_OTHERS', 'DT_DURATION', 'QT_PERCENTAGE', 'QT_PERCENTAGE'], ['CV_LAW', 'AF_TRANSPORT', 'QT_COUNT', 'QT_COUNT', 'QT_MAN_COUNT', 'QT_COUNT', 'OG_OHTERS'], ['DT_OTHERS', 'LCP_COUNTRY', 'AF_WEAPON', 'AF_WEAPON', 'AF_WEAPON', 'QT_LENGTH'], ['CV_OCCUPATION', 'EV_OTHERS'], ['PS_NAME', 'OGG_ECONOMY', 'CV_POSITION', 'LCP_CAPITALCITY', 'LCP_CITY', 'LCP_CITY', 'LCP_CAPITALCITY', 'LC_OTHERS', 'EV_OTHERS'], ['TMM_DISEASE', 'QT_AGE', 'TMM_DISEASE', 'TI_MINUTE', 'TR_MEDICINE'], ['LCG_OCEAN', 'LCG_ISLAND', 'LCG_ISLAND', 'OGG_MILITARY', 'OGG_MILITARY'], [], ['QT_LENGTH', 'OGG_MILITARY'], ['TM_CELL_TISSUE', 'CV_OCCUPATION'], ['CV_RELATION', 'DT_DURATION'], ['LCP_COUNTY', 'LCP_COUNTY', 'LC_OTHERS', 'QT_SIZE', 'QT_ORDER', 'QT_PRICE'], [], ['TR_MEDICINE', 'DT_YEAR', 'QT_PERCENTAGE', 'DT_YEAR', 'QT_PERCENTAGE'], ['OGG_ECONOMY', 'PS_NAME', 'CV_POSITION', 'CV_POSITION'], ['QT_COUNT', 'TMM_DRUG'], ['OGG_POLITICS', 'CV_POSITION', 'QT_MAN_COUNT', 'LC_OTHERS', 'CV_POSITION', 'LC_OTHERS', 'TI_DURATION', 'CV_OCCUPATION'], ['QT_ORDER', 'FD_SOCIAL_SCIENCE', 'PS_NAME', 'CV_OCCUPATION', 'FD_OTHERS', 'CV_OCCUPATION', 'PS_NAME'], ['OGG_POLITICS', 'CV_POSITION', 'DT_YEAR'], ['CV_TAX'], ['AF_WEAPON', 'AF_WEAPON', 'DT_OTHERS', 'AF_WEAPON', 'TR_SCIENCE', 'AF_TRANSPORT', 'AF_WEAPON'], ['OGG_POLITICS', 'TMI_SERVICE', 'TMI_SITE', 'CV_TAX', 'TMI_SERVICE', 'DT_DAY', 'TI_OTHERS', 'DT_DAY'], ['LCP_COUNTRY', 'CV_POSITION'], ['DT_YEAR'], ['OGG_POLITICS', 'CV_POSITION'], ['AF_WEAPON', 'TMI_HW', 'TMI_HW', 'TM_COLOR', 'QT_COUNT'], ['LCP_CITY', 'AF_TRANSPORT', 'QT_SPEED', 'QT_LENGTH'], [], ['CV_POSITION', 'LCP_COUNTRY'], ['AF_TRANSPORT', 'OGG_MEDICINE', 'CV_POSITION', 'TR_MEDICINE'], ['PS_NAME', 'OGG_POLITICS', 'CV_POSITION', 'PS_NAME', 'PS_NAME', 'OGG_POLITICS', 'PS_NAME', 'CV_POSITION', 'PS_NAME', 'CV_POSITION'], ['QT_ORDER', 'CV_OCCUPATION', 'CV_OCCUPATION'], ['TI_MINUTE'], ['PS_NAME', 'CV_POSITION', 'OGG_POLITICS'], ['PS_NAME', 'TM_CELL_TISSUE', 'QT_COUNT', 'QT_ORDER', 'TMM_DISEASE'], ['OGG_POLITICS', 'CV_OCCUPATION', 'TMI_HW'], ['TI_OTHERS', 'OGG_POLITICS', 'PS_NAME'], ['LCP_COUNTRY', 'AF_TRANSPORT', 'QT_PRICE', 'QT_PRICE'], ['LCP_COUNTRY', 'QT_COUNT', 'OGG_ECONOMY', 'OGG_ECONOMY', 'OGG_ECONOMY', 'OGG_SPORTS', 'QT_COUNT', 'QT_COUNT', 'CV_FUNDS', 'QT_COUNT', 'TI_DURATION', 'DT_DURATION'], ['CV_OCCUPATION', 'DT_YEAR', 'OGG_EDUCATION'], ['TR_SCIENCE', 'TR_SCIENCE', 'TR_SCIENCE', 'TR_SCIENCE', 'CV_OCCUPATION'], ['PS_NAME', 'CV_POSITION', 'CV_POSITION', 'PS_NAME', 'OGG_POLITICS', 'CV_POSITION', 'PS_NAME'], ['PS_NAME', 'CV_POSITION', 'CV_POSITION', 'CV_POSITION', 'PS_NAME', 'CV_POSITION', 'CV_POSITION', 'QT_COUNT', 'PS_NAME', 'OGG_POLITICS', 'CV_POSITION', 'CV_POSITION', 'PS_NAME', 'CV_POSITION'], ['OGG_POLITICS', 'DT_DAY', 'QT_COUNT', 'TMI_HW'], ['LCP_COUNTRY', 'DT_DAY', 'LCP_PROVINCE', 'LCP_CITY', 'AF_WEAPON', 'AF_WEAPON'], ['TI_MINUTE', 'TI_MINUTE', 'TM_CELL_TISSUE'], ['QT_PERCENTAGE', 'DT_DURATION'], ['CV_POSITION', 'QT_MAN_COUNT', 'QT_MAN_COUNT', 'CV_POSITION', 'AFW_MUSIC'], ['PS_NAME', 'CV_POSITION', 'DT_DAY', 'CV_POSITION', 'CV_POSITION', 'OGG_POLITICS', 'CV_POSITION', 'CV_POSITION', 'PS_NAME', 'QT_AGE', 'OGG_EDUCATION', 'CV_POSITION', 'OGG_POLITICS', 'CV_POSITION', 'CV_POSITION', 'PS_NAME', 'QT_AGE', 'OGG_POLITICS', 'CV_POSITION'], ['OGG_POLITICS'], ['AF_WEAPON', 'AF_WEAPON', 'AF_WEAPON', 'QT_COUNT', 'PS_NAME', 'CV_POSITION', 'CV_POSITION', 'CV_POSITION'], ['PS_NAME', 'DT_DURATION', 'CV_POSITION', 'AM_PART'], ['TMI_HW', 'TM_CELL_TISSUE', 'PS_NAME'], ['PS_NAME', 'CV_POSITION', 'DT_OTHERS', 'CV_LAW'], ['OGG_ECONOMY', 'CV_POSITION', 'TMI_HW'], ['OGG_POLITICS', 'PS_NAME', 'CV_POSITION'], ['QT_COUNT', 'CV_POSITION', 'CV_POSITION', 'QT_MAN_COUNT'], ['CV_LANGUAGE', 'QT_ORDER', 'PS_NAME', 'CV_OCCUPATION', 'FD_SCIENCE', 'DT_DURATION', 'OGG_HOTEL', 'CV_RELATION', 'AF_TRANSPORT'], ['LCP_COUNTRY', 'CV_POSITION'], ['DT_MONTH', 'TMI_SERVICE', 'DT_DAY']]\n"
          ]
        }
      ]
    },
    {
      "cell_type": "code",
      "metadata": {
        "colab": {
          "base_uri": "https://localhost:8080/"
        },
        "id": "lOb-lFmCgMNj",
        "outputId": "c55af785-8856-4650-b878-ddf3147deade"
      },
      "source": [
        "labels = [label.strip() for label in open('ner_label.txt', 'r', encoding='utf-8')] # label(정답) 파일을 열어서 labels을 가져옴.\n",
        "print('개체명 태깅 정보 :', labels)"
      ],
      "execution_count": null,
      "outputs": [
        {
          "output_type": "stream",
          "name": "stdout",
          "text": [
            "개체명 태깅 정보 : ['PS_NAME', 'LC_OTHERS', 'LCP_COUNTRY', 'LCP_PROVINCE', 'LCP_COUNTY', 'LCP_CITY', 'LCP_CAPITALCITY', 'LCG_RIVER', 'LCG_OCEAN', 'LCG_BAY', 'LCG_MOUNTIAN', 'LCG_ISLAND', 'LCG_CONTINENT', 'LC_TOUR', 'LC_SPACE', 'OG_OTHERS', 'OGG_ECONOMY', 'OGG_EDUCATION', 'OGG_MILITARY', 'OGG_MEDIA', 'OGG_SPORTS', 'OGG_ART', 'OGG_MEDICINE', 'OGG_RELIGION', 'OGG_SCIENCE', 'OGG_LIBRARY', 'OGG_LAW', 'OGG_POLITICS', 'OGG_FOOD', 'OGG_HOTEL', 'AF_CULTURAL_ASSET', 'AF_BUILDING', 'AF_MUSICAL_INSTRUMENT', 'AF_ROAD', 'AF_WEAPON', 'AF_TRANSPORT', 'AF_WORKS', 'AFW_DOCUMENT', 'AFW_PERFORMANCE', 'AFW_VIDEO', 'AFW_ART_CRAFT', 'AFW_MUSIC', 'AF_WARES', 'DT_OTHERS', 'DT_DURATION', 'DT_DAY', 'DT_MONTH', 'DT_YEAR', 'DT_SEASON', 'DT_GEOAGE', 'DT_DYNASTY', 'TI_OTHERS', 'TI_DURATION', 'TI_HOUR', 'TI_MINUTE', 'TI_SECOND', 'CV_NAME', 'CV_TRIBE', 'CV_SPORTS', 'CE_SPORTS_INST', 'CV_POLICY', 'CV_TAX', 'CV_FUNDS', 'CV_LANGUAGE', 'CV_BUILDING_TYPE', 'CV_FOOD', 'CV_DRINK', 'CV_CLOTHING', 'CV_POSITION', 'CV_RELATION', 'CV_OCCUPATION', 'CV_CURRENCY', 'CV_PRIZE', 'CV_LAW', 'CV_FOOD_STYLE', 'AM_OTHERS', 'AM_INSECT', 'AM_BIRD', 'AM_FISH', 'AM_MAMMALIA', 'AM_AMPHIBIA', 'AM_REPTILIA', 'AM_TYPE', 'AM_PART', 'PT_OTHERS', 'PT_FRUIT', 'PT_FLOWER', 'PT_TREE', 'PT_GRASS', 'PT_TYPE', 'PT_PART', 'QT_OTHER', 'QT_AGE', 'QT_SIZE', 'QT_LENGTH', 'QT_COUNT', 'QT_MAN_COUNT', 'QT_WEIGHT', 'QT_PERCENTAGE', 'QT_SPEED', 'QT_TEMPERATURE', 'QT_VOLUME', 'QT_ORDER', 'QT_PRICE', 'QT_PHONE', 'QT_SPORTS', 'QT_CHANNEL', 'QT_ALBUM', 'QT_ZIPCODE', 'FD_OTHERS', 'FD_SCIENCE', 'FD_SCOCIAL_SCIENCE', 'FD_MEDICINE', 'FD_ART', 'FD_PHILOSOPHY', 'TR_OTHERS', 'TR_SCIENCE', 'TR_SOCIAL_SCIENCE', 'TR_ART', 'TR_PHILOSOPHY', 'TR_MEDICINE', 'EV_OTHERS', 'EV_ACTIVIY', 'EV_WAR_REVOLUTION', 'EV_SPORTS', 'EV_FESTIVAL', 'MT_ELEMENT', 'MT_METAL', 'MT_ROCK', 'MT_CHEMICAL', 'TM_COLOR', 'TM_DIRECTION', 'TM_CLIMATE', 'TM_SHAPE', 'TM_CELL_TISSUE', 'TMM_DISEASE', 'TMM_DRUG', 'TMI_HW', 'TMI_SW', 'TMI_SITE', 'TMI_EMAIL', 'TMI_MODEL', 'TMI_SEVICE', 'TMIG_GENRE', 'TM_SPORTS']\n"
          ]
        }
      ]
    },
    {
      "cell_type": "code",
      "metadata": {
        "id": "QDrd3nPMqIAa"
      },
      "source": [
        "tag_to_index = {tag: index for index, tag in enumerate(labels)} # 태그를 인덱스로 표현하는 변수\n",
        "index_to_tag = {index: tag for index, tag in enumerate(labels)} # 인덱스를 태그로 표현하는 변수"
      ],
      "execution_count": null,
      "outputs": []
    },
    {
      "cell_type": "code",
      "metadata": {
        "colab": {
          "base_uri": "https://localhost:8080/"
        },
        "id": "l7I4QROdtDKG",
        "outputId": "aebe825e-27b9-4115-a923-087d5aeb9384"
      },
      "source": [
        "tag_size = len(tag_to_index) # 태그의 개수\n",
        "print('개체명 태깅 정보의 개수 :',tag_size)"
      ],
      "execution_count": null,
      "outputs": [
        {
          "output_type": "stream",
          "name": "stdout",
          "text": [
            "개체명 태깅 정보의 개수 : 145\n"
          ]
        }
      ]
    },
    {
      "cell_type": "markdown",
      "metadata": {
        "id": "olKkJHxbdLIK"
      },
      "source": [
        "# 2. 전처리 예시"
      ]
    },
    {
      "cell_type": "code",
      "metadata": {
        "id": "KcpPaUcSn_LT"
      },
      "source": [
        "tokenizer = BertTokenizer.from_pretrained(\"klue/bert-base\") # BertTokenizer 에서 이미 학습되어 있는 'klue/bert-base' 모델을 가져옴."
      ],
      "execution_count": null,
      "outputs": []
    },
    {
      "cell_type": "markdown",
      "metadata": {
        "id": "qcc3SBlfEZtS"
      },
      "source": [
        "# 3. 전처리"
      ]
    },
    {
      "cell_type": "code",
      "metadata": {
        "id": "Sxo1pIHrepW8"
      },
      "source": [
        "#? 샘플을 특징으로 변환\n",
        "def convert_examples_to_features(examples, labels, max_seq_len, tokenizer,\n",
        "                                 pad_token_id_for_segment=0, pad_token_id_for_label=-100):\n",
        "    cls_token = tokenizer.cls_token # cls_token : BERT가 분류 문제를 풀기 위해 추가된 특별 토큰. 모든 문장의 가장 첫 번째(문장의 시작) 토큰으로 삽입.\n",
        "    sep_token = tokenizer.sep_token # sep_token : 각 문장을 구분하기 위해 사용되는 특별 토큰. 각 문장의 끝에 [SEP] 토큰이 사용됨.\n",
        "    pad_token_id = tokenizer.pad_token_id # pad_token : 일정한 크기로 BERT에 입력하기 위해 사용되는 패딩 토큰.\n",
        "\n",
        "    #? input_ids : input의 id를 달아주기 위한 변수.\n",
        "    # attention_masks : 불필요하게 패딩 토큰에 대해서 어텐션을 하지 않도록 실제 단어와 패딩 토큰을 구분할 수 있도록 알려주는 시퀀스 입력. 실제 단어 및 토큰 : 1 / 패딩 토큰 : 0 으로 표현.\n",
        "    #? token_type_ids : 토큰의 타입에 대한 id.\n",
        "    # data_labels : 데이터에 대한 레이블 집합.\n",
        "    input_ids, attention_masks, token_type_ids, data_labels = [], [], [], []\n",
        "\n",
        "    # tqdm() : 진행 상황을 Progress Bar 형태로 확인 가능.\n",
        "      # total : 총 반복 횟수\n",
        "    # zip() : 두 리스트를 튜플 리스트로 합침.\n",
        "    '''\n",
        "        ex) for number, upper, lower in zip(\"12345\", \"ABCDE\", \"abcde\"):\n",
        "                print(number, upper, lower)\n",
        "\n",
        "            (1, A, a)\n",
        "            (2, B, b)\n",
        "            (3, C, c)\n",
        "            .\n",
        "            .\n",
        "            .\n",
        "    '''\n",
        "    for example, label in tqdm(zip(examples, labels), total=len(examples)):\n",
        "        # tokens, labels_ids\n",
        "        tokens = []\n",
        "        labels_ids = []\n",
        "\n",
        "        # example 과 label 에서 단어 하나와 그 단어에 해당하는 label_token 을 가져옴. \n",
        "        for one_word, label_token in zip(example, label):\n",
        "            # one_word 에서 토큰화 작업을 하여 subword_token 들로 분리.\n",
        "            print()\n",
        "            print(one_word)\n",
        "            subword_tokens = tokenizer.tokenize(one_word)\n",
        "            print(subword_tokens)\n",
        "\n",
        "            # list.append(['Ping', 'Pong']) : 리스트 끝에 iterable 자체 그대로 넣음.\n",
        "              # ex) list: ['Tick', 'Tock', 'Song', ['Ping', 'Pong']]\n",
        "            # list.extend(['Ping', 'Pong']) : 리스트 끝에 iterable의 모든 항목을 넣음.\n",
        "              # ex) list: ['Tick', 'Tock', 'Song', 'Ping', 'Pong']\n",
        "            tokens.extend(subword_tokens)\n",
        "\n",
        "            # labels_ids.extend() : 리스트 끝에 iterable의 모든 항목을 넣음.\n",
        "            labels_ids.extend([tag_to_index[label_token]] + [pad_token_id_for_label] * (len(subword_tokens) - 1))\n",
        "\n",
        "        # 스페셜 토큰 : [CLS], [SEP]와 같은 토큰들을 의미.\n",
        "        # 적어도 한 문장에는 [CLS] 1개와 [SEP] 1개가 존재.\n",
        "        # '[CLS]', '감사합니다', '[SEP]'\n",
        "        special_tokens_count = 2\n",
        "\n",
        "        # 토큰의 개수가 최대 seq의 개수를 넘겼을 때,\n",
        "        if len(tokens) > max_seq_len - special_tokens_count:\n",
        "            # tokens 를 최대 seq의 개수(special_tokens의 개수를 포함하여)만큼 인덱스 슬라이싱.\n",
        "            tokens = tokens[:(max_seq_len - special_tokens_count)]\n",
        "            # labels_ids 를 최대 seq의 개수(special_tokens의 개수를 포함하여)만큼 인덱스 슬라이싱. \n",
        "            labels_ids = labels_ids[:(max_seq_len - special_tokens_count)]\n",
        "\n",
        "        # 한 문장이 다 들어갔으므로, tokens 에 [sep_token]([SEP]) 을 추가.\n",
        "        tokens += [sep_token]\n",
        "        # sep_token 에 해당하는 id 추가.\n",
        "        labels_ids += [pad_token_id_for_label]\n",
        "\n",
        "        # 모든 문장의 앞에 존재하여 하므로, tokens 앞에 [cls_token]([CLS]) 을 추가.\n",
        "        tokens = [cls_token] + tokens\n",
        "        # cls_token 에 해당하는 id 추가.\n",
        "        labels_ids = [pad_token_id_for_label] + labels_ids\n",
        "\n",
        "        # tokens 를 ids 로 변환한 것은 input_id 에 넣음.\n",
        "        input_id = tokenizer.convert_tokens_to_ids(tokens)\n",
        "        # 어텐션 마스크란?\n",
        "        ''' \n",
        "            BERT가 어텐션 연산을 할 때, 불필요하게 패딩 토큰에 대해서 어텐션을 하지 않도록\n",
        "            실제 단어와 패딩 토큰을 구분할 수 있도록 알려주는 입력.\n",
        "            필기 17-02-10 참고.\n",
        "        '''\n",
        "        # input_id 길이만큼 attention_mask 에 1을 추가.\n",
        "        attention_mask = [1] * len(input_id)\n",
        "        # max_seq_len 보다 input_id 의 개수가 더 적은 경우, 패딩해야 하므로,\n",
        "        padding_count = max_seq_len - len(input_id)\n",
        "        # 패딩하기 위해서 padding id 를 padding_count 만큼 input_id 에 채워넣음.\n",
        "        input_id = input_id + ([pad_token_id] * padding_count)\n",
        "        # 어텐션 마스크에는 padding_count 만큼 0을 추가.\n",
        "        attention_mask = attention_mask + ([0] * padding_count)\n",
        "        #? token_type_id 에 max_seq_len 만큼 pad_token_id_for_segment 를 넣음.\n",
        "        token_type_id = [pad_token_id_for_segment] * max_seq_len\n",
        "        #? label 은 현재까지의 labels_ids 에 padding_count 만큼 pad_token_id_for_label 을 넣음.\n",
        "        label = labels_ids + ([pad_token_id_for_label] * padding_count)\n",
        "\n",
        "        # assert 는 뒤의 조건이 True 가 아니면 AssertError 를 발생.\n",
        "        # input_id, attention_mask, token_type_id, label 의 크기가 max_seq_len 과 같으면, 에러를 발생.\n",
        "        assert len(input_id) == max_seq_len, \"Error with input length {} vs {}\".format(len(input_id), max_seq_len)\n",
        "        assert len(attention_mask) == max_seq_len, \"Error with attention mask length {} vs {}\".format(len(attention_mask), max_seq_len)\n",
        "        assert len(token_type_id) == max_seq_len, \"Error with token type length {} vs {}\".format(len(token_type_id), max_seq_len)\n",
        "        assert len(label) == max_seq_len, \"Error with labels length {} vs {}\".format(len(label), max_seq_len)\n",
        "\n",
        "        # input_ids 리스트에 input_id 리스트를 추가.\n",
        "        input_ids.append(input_id)\n",
        "        # attention_masks 리스트에 attention_mask 리스트를 추가.\n",
        "        attention_masks.append(attention_mask)\n",
        "        # token_type_ids 리스트에 token_type_id 리스트를 추가.\n",
        "        token_type_ids.append(token_type_id)\n",
        "        # data_labels 리스트에 label 리스트를 추가.\n",
        "        data_labels.append(label)\n",
        "    # 반복문 종료\n",
        "\n",
        "    # input_ids, attention_masks, token_type_ids 리스트를 np.array() 로 새롭게 만듦.\n",
        "    input_ids = np.array(input_ids, dtype=int)\n",
        "    attention_masks = np.array(attention_masks, dtype=int)\n",
        "    token_type_ids = np.array(token_type_ids, dtype=int)\n",
        "    # np.asarray() 는 데이터 형태가 다를 때만 복사. 데이터 형태가 같을 때 복사하지 않음.\n",
        "    #? data_labels 리스트를 np.asarray() 로 새롭게 만듦. 데이터 타입을 np.int32 로 새롭게 만듦.\n",
        "    data_labels = np.asarray(data_labels, dtype=np.int32)\n",
        "\n",
        "    # 전처리를 수행한 결과를 리턴.\n",
        "    return (input_ids, attention_masks, token_type_ids), data_labels"
      ],
      "execution_count": null,
      "outputs": []
    },
    {
      "cell_type": "code",
      "metadata": {
        "colab": {
          "base_uri": "https://localhost:8080/",
          "height": 1000
        },
        "id": "whD6ej7go8BE",
        "outputId": "df80273a-b84c-4611-da35-1d7e619a5458"
      },
      "source": [
        "# 위에서 만든 전처리 함수를 통해 훈련용 데이터를 가공.\n",
        "X_train, y_train = convert_examples_to_features(train_data_sentence, train_data_label, max_seq_len=128, tokenizer=tokenizer)"
      ],
      "execution_count": null,
      "outputs": [
        {
          "output_type": "stream",
          "name": "stderr",
          "text": [
            " 12%|█▎        | 32/256 [00:00<00:00, 475.66it/s]"
          ]
        },
        {
          "output_type": "stream",
          "name": "stdout",
          "text": [
            "\n",
            "북한\n",
            "['북한']\n",
            "\n",
            "지난 4월 26일\n",
            "['지난', '4', '##월', '26', '##일']\n",
            "\n",
            "무인기\n",
            "['무인기']\n",
            "\n",
            "성주\n",
            "['성주']\n",
            "\n",
            "2008년부터 2016년까지\n",
            "['2008', '##년', '##부터', '2016', '##년', '##까', '##지']\n",
            "\n",
            "서울\n",
            "['서울']\n",
            "\n",
            "3.3㎡\n",
            "['3', '.', '3', '##㎡']\n",
            "\n",
            "1748만 원\n",
            "['174', '##8', '##만', '원']\n",
            "\n",
            "1916만 원\n",
            "['1916', '##만', '원']\n",
            "\n",
            "9.6%\n",
            "['9', '.', '6', '%']\n",
            "\n",
            "GDP\n",
            "['GDP']\n",
            "\n",
            "국내총생산\n",
            "['국내', '##총', '##생산']\n",
            "\n",
            "1조 17억 달러\n",
            "['1', '##조', '17', '##억', '달러']\n",
            "\n",
            "1조 4110억 달러\n",
            "['1', '##조', '41', '##10', '##억', '달러']\n",
            "\n",
            "41%\n",
            "['41', '%']\n",
            "\n",
            "환자\n",
            "['환자']\n",
            "\n",
            "주민등록\n",
            "['주민', '##등', '##록']\n",
            "\n",
            "심폐소생술\n",
            "['심폐', '##소', '##생', '##술']\n",
            "\n",
            "40분\n",
            "['40', '##분']\n",
            "\n",
            "심장\n",
            "['심장']\n",
            "\n",
            "내과\n",
            "['내과']\n",
            "\n",
            "위진\n",
            "['위', '##진']\n",
            "\n",
            "교수\n",
            "['교수']\n",
            "\n",
            "체외심폐순환기\n",
            "['체', '##외', '##심', '##폐', '##순환', '##기']\n",
            "\n",
            "ECMO\n",
            "['EC', '##M', '##O']\n",
            "\n",
            "순항미사일\n",
            "['순항', '##미사', '##일']\n",
            "\n",
            "4월 15일\n",
            "['4', '##월', '15', '##일']\n",
            "\n",
            "평양\n",
            "['평양']\n",
            "\n",
            "김일성\n",
            "['김일성']\n",
            "\n",
            "105주년\n",
            "['105', '##주', '##년']\n",
            "\n",
            "열병식\n",
            "['열병', '##식']\n",
            "\n",
            "원통형\n",
            "['원통', '##형']\n",
            "\n",
            "4개\n",
            "['4', '##개']\n",
            "\n",
            "미사일\n",
            "['미사일']\n",
            "\n",
            "미국\n",
            "['미국']\n",
            "\n",
            "토요일\n",
            "['토요일']\n",
            "\n",
            "오전 2시\n",
            "['오전', '2', '##시']\n",
            "\n",
            "상담원\n",
            "['상담원']\n",
            "\n",
            "연말\n",
            "['연말']\n",
            "\n",
            "18일부터\n",
            "['18', '##일', '##부터']\n",
            "\n",
            "윤인진\n",
            "['윤', '##인', '##진']\n",
            "\n",
            "고려대\n",
            "['고려대']\n",
            "\n",
            "사회학과\n",
            "['사회학', '##과']\n",
            "\n",
            "교수\n",
            "['교수']\n",
            "\n",
            "6개월∼1년\n",
            "['6', '##개', '##월', '##∼', '##1', '##년']\n",
            "\n",
            "사원\n",
            "['사원']\n",
            "\n",
            "고용제도\n",
            "['고용', '##제', '##도']\n",
            "\n",
            "북한\n",
            "['북한']\n",
            "\n",
            "중앙TV\n",
            "['중앙', '##TV']\n",
            "\n",
            "사드\n",
            "['사드']\n",
            "\n",
            "성주\n",
            "['성주']\n",
            "\n",
            "북쪽\n",
            "['북쪽']\n",
            "\n",
            "X 대역탐지기\n",
            "['X', '대역', '##탐', '##지기']\n",
            "\n",
            "서쪽\n",
            "['서쪽']\n",
            "\n",
            "경총\n",
            "['경총']\n",
            "\n",
            "새내기\n",
            "['새내기']\n",
            "\n",
            "직장인\n",
            "['직장인']\n",
            "\n",
            "1년\n",
            "['1', '##년']\n",
            "\n",
            "49.1%\n",
            "['49', '.', '1', '%']\n",
            "\n",
            "한 달\n",
            "['한', '달']\n",
            "\n",
            "2억 9000만 원\n",
            "['2', '##억', '9000', '##만', '원']\n",
            "\n",
            "20.7%\n",
            "['20', '.', '7', '%']\n",
            "\n",
            "북한\n",
            "['북한']\n",
            "\n",
            "무인기\n",
            "['무인기']\n",
            "\n",
            "북한\n",
            "['북한']\n",
            "\n",
            "ECMO\n",
            "['EC', '##M', '##O']\n",
            "\n",
            "환자\n",
            "['환자']\n",
            "\n",
            "20일 이후\n",
            "['20', '##일', '이후']\n",
            "\n",
            "근로자\n",
            "['근로자']\n",
            "\n",
            "미국\n",
            "['미국']\n",
            "\n",
            "50초\n",
            "['50', '##초']\n",
            "\n",
            "상담원\n",
            "['상담원']\n",
            "\n",
            "전화\n",
            "['전화']\n",
            "\n",
            "정\n",
            "['정']\n",
            "\n",
            "한\n",
            "['한']\n",
            "\n",
            "동창생\n",
            "['동창', '##생']\n",
            "\n",
            "대학\n",
            "['대학']\n",
            "\n",
            "학교\n",
            "['학교']\n",
            "\n",
            "북한\n",
            "['북한']\n",
            "\n",
            "무인기\n",
            "['무인기']\n",
            "\n",
            "사드\n",
            "['사드']\n",
            "\n",
            "고고도 미사일방어체계\n",
            "['고고', '##도', '미사일', '##방', '##어', '##체', '##계']\n",
            "\n",
            "경북\n",
            "['경북']\n",
            "\n",
            "성주\n",
            "['성주']\n",
            "\n",
            "북측\n",
            "['북측']\n",
            "\n",
            "상담원\n",
            "['상담원']\n",
            "\n",
            "한국\n",
            "['한국']\n",
            "\n",
            "홍석현\n",
            "['홍석', '##현']\n",
            "\n",
            "신임 특보\n",
            "['신임', '특보']\n",
            "\n",
            "서울\n",
            "['서울']\n",
            "\n",
            "경기고\n",
            "['경기', '##고']\n",
            "\n",
            "스탠포드대\n",
            "['스탠', '##포드', '##대']\n",
            "\n",
            "담임\n",
            "['담임']\n",
            "\n",
            "아빠\n",
            "['아빠']\n",
            "\n",
            "딸\n",
            "['딸']\n",
            "\n",
            "인제\n",
            "['인제']\n",
            "\n",
            "무인기\n",
            "['무인기']\n",
            "\n",
            "2∼3㎞\n",
            "['2', '##∼', '##3', '##㎞']\n",
            "\n",
            "성주\n",
            "['성주']\n",
            "\n",
            "북한\n",
            "['북한']\n",
            "\n",
            "지난달 8일\n",
            "['지난달', '8', '##일']\n",
            "\n",
            "조선중앙TV\n",
            "['조선', '##중', '##앙', '##TV']\n",
            "\n",
            "주말\n",
            "['주말']\n",
            "\n",
            "6시\n",
            "['6', '##시']\n",
            "\n",
            "신한은행\n",
            "['신한은행']\n",
            "\n",
            "4월 초\n",
            "['4', '##월', '초']\n",
            "\n",
            "7억 8700만 원\n",
            "['7', '##억', '87', '##00', '##만', '원']\n",
            "\n",
            "한 달\n",
            "['한', '달']\n",
            "\n",
            "7000만 원\n",
            "['7000', '##만', '원']\n",
            "\n",
            "심폐소생술\n",
            "['심폐', '##소', '##생', '##술']\n",
            "\n",
            "30분\n",
            "['30', '##분']\n",
            "\n",
            "의사\n",
            "['의사']\n",
            "\n",
            "겨울철\n",
            "['겨울철']\n",
            "\n",
            "경찰\n",
            "['경찰']\n",
            "\n",
            "경찰\n",
            "['경찰']\n",
            "\n",
            "소래포구 어시장 화재\n",
            "['소', '##래', '##포구', '어', '##시장', '화재']\n",
            "\n",
            "목격자\n",
            "['목격자']\n",
            "\n",
            "3명\n",
            "['3', '##명']\n",
            "\n",
            "덕수상고\n",
            "['덕수', '##상', '##고']\n",
            "\n",
            "행정고시\n",
            "['행정', '##고시']\n",
            "\n",
            "입법고시\n",
            "['입법', '##고시']\n",
            "\n",
            "아이돌\n",
            "['아이돌']\n",
            "\n",
            "연습생\n",
            "['연습생']\n",
            "\n",
            "정유라\n",
            "['정유라']\n",
            "\n",
            "청와대\n",
            "['청와대']\n",
            "\n",
            "임\n",
            "['임']\n",
            "\n",
            "실장\n",
            "['실장']\n",
            "\n",
            "조\n",
            "['조']\n",
            "\n",
            "수석\n",
            "['수석']\n",
            "\n",
            "파주\n",
            "['파주']\n",
            "\n",
            "삼척\n",
            "['삼척']\n",
            "\n",
            "백령도\n",
            "['백', '##령', '##도']\n",
            "\n",
            "북한\n",
            "['북한']\n",
            "\n",
            "무인기\n",
            "['무인기']\n",
            "\n",
            "10∼14㎏\n",
            "['10', '##∼', '##14', '##㎏']\n",
            "\n",
            "카메라\n",
            "['카메라']\n",
            "\n",
            "무인기\n",
            "['무인기']\n",
            "\n",
            "3∼4㎏\n",
            "['3', '##∼', '##4', '##㎏']\n",
            "\n",
            "정부\n",
            "['정부']\n",
            "\n",
            "4대강 살리기 사업\n",
            "['4', '##대', '##강', '살리', '##기', '사업']\n"
          ]
        },
        {
          "output_type": "stream",
          "name": "stderr",
          "text": [
            "\n"
          ]
        },
        {
          "output_type": "error",
          "ename": "KeyError",
          "evalue": "ignored",
          "traceback": [
            "\u001b[0;31m---------------------------------------------------------------------------\u001b[0m",
            "\u001b[0;31mKeyError\u001b[0m                                  Traceback (most recent call last)",
            "\u001b[0;32m<ipython-input-229-33cc57215e6c>\u001b[0m in \u001b[0;36m<module>\u001b[0;34m()\u001b[0m\n\u001b[1;32m      1\u001b[0m \u001b[0;31m# 위에서 만든 전처리 함수를 통해 훈련용 데이터를 가공.\u001b[0m\u001b[0;34m\u001b[0m\u001b[0;34m\u001b[0m\u001b[0;34m\u001b[0m\u001b[0m\n\u001b[0;32m----> 2\u001b[0;31m \u001b[0mX_train\u001b[0m\u001b[0;34m,\u001b[0m \u001b[0my_train\u001b[0m \u001b[0;34m=\u001b[0m \u001b[0mconvert_examples_to_features\u001b[0m\u001b[0;34m(\u001b[0m\u001b[0mtrain_data_sentence\u001b[0m\u001b[0;34m,\u001b[0m \u001b[0mtrain_data_label\u001b[0m\u001b[0;34m,\u001b[0m \u001b[0mmax_seq_len\u001b[0m\u001b[0;34m=\u001b[0m\u001b[0;36m128\u001b[0m\u001b[0;34m,\u001b[0m \u001b[0mtokenizer\u001b[0m\u001b[0;34m=\u001b[0m\u001b[0mtokenizer\u001b[0m\u001b[0;34m)\u001b[0m\u001b[0;34m\u001b[0m\u001b[0;34m\u001b[0m\u001b[0m\n\u001b[0m",
            "\u001b[0;32m<ipython-input-228-858ee3d97db1>\u001b[0m in \u001b[0;36mconvert_examples_to_features\u001b[0;34m(examples, labels, max_seq_len, tokenizer, pad_token_id_for_segment, pad_token_id_for_label)\u001b[0m\n\u001b[1;32m     46\u001b[0m \u001b[0;34m\u001b[0m\u001b[0m\n\u001b[1;32m     47\u001b[0m             \u001b[0;31m# labels_ids.extend() : 리스트 끝에 iterable의 모든 항목을 넣음.\u001b[0m\u001b[0;34m\u001b[0m\u001b[0;34m\u001b[0m\u001b[0;34m\u001b[0m\u001b[0m\n\u001b[0;32m---> 48\u001b[0;31m             \u001b[0mlabels_ids\u001b[0m\u001b[0;34m.\u001b[0m\u001b[0mextend\u001b[0m\u001b[0;34m(\u001b[0m\u001b[0;34m[\u001b[0m\u001b[0mtag_to_index\u001b[0m\u001b[0;34m[\u001b[0m\u001b[0mlabel_token\u001b[0m\u001b[0;34m]\u001b[0m\u001b[0;34m]\u001b[0m \u001b[0;34m+\u001b[0m \u001b[0;34m[\u001b[0m\u001b[0mpad_token_id_for_label\u001b[0m\u001b[0;34m]\u001b[0m \u001b[0;34m*\u001b[0m \u001b[0;34m(\u001b[0m\u001b[0mlen\u001b[0m\u001b[0;34m(\u001b[0m\u001b[0msubword_tokens\u001b[0m\u001b[0;34m)\u001b[0m \u001b[0;34m-\u001b[0m \u001b[0;36m1\u001b[0m\u001b[0;34m)\u001b[0m\u001b[0;34m)\u001b[0m\u001b[0;34m\u001b[0m\u001b[0;34m\u001b[0m\u001b[0m\n\u001b[0m\u001b[1;32m     49\u001b[0m \u001b[0;34m\u001b[0m\u001b[0m\n\u001b[1;32m     50\u001b[0m         \u001b[0;31m# 스페셜 토큰 : [CLS], [SEP]와 같은 토큰들을 의미.\u001b[0m\u001b[0;34m\u001b[0m\u001b[0;34m\u001b[0m\u001b[0;34m\u001b[0m\u001b[0m\n",
            "\u001b[0;31mKeyError\u001b[0m: 'TMI_PROJECT'"
          ]
        }
      ]
    },
    {
      "cell_type": "code",
      "metadata": {
        "colab": {
          "base_uri": "https://localhost:8080/",
          "height": 394
        },
        "id": "dnb6SS3UflDG",
        "outputId": "05e79770-bdd4-41df-c554-57bf0bacdf06"
      },
      "source": [
        "# 위에서 만든 전처리 함수를 통해 테스트용 데이터를 가공.\n",
        "X_test, y_test = convert_examples_to_features(test_data_sentence, test_data_label, max_seq_len=128, tokenizer=tokenizer)"
      ],
      "execution_count": null,
      "outputs": [
        {
          "output_type": "stream",
          "name": "stderr",
          "text": [
            "  0%|          | 0/65 [00:00<?, ?it/s]"
          ]
        },
        {
          "output_type": "stream",
          "name": "stdout",
          "text": [
            "\n",
            "4대강\n",
            "['4', '##대', '##강']\n"
          ]
        },
        {
          "output_type": "stream",
          "name": "stderr",
          "text": [
            "\n"
          ]
        },
        {
          "output_type": "error",
          "ename": "KeyError",
          "evalue": "ignored",
          "traceback": [
            "\u001b[0;31m---------------------------------------------------------------------------\u001b[0m",
            "\u001b[0;31mKeyError\u001b[0m                                  Traceback (most recent call last)",
            "\u001b[0;32m<ipython-input-146-5de2e1e51e95>\u001b[0m in \u001b[0;36m<module>\u001b[0;34m()\u001b[0m\n\u001b[1;32m      1\u001b[0m \u001b[0;31m# 위에서 만든 전처리 함수를 통해 테스트용 데이터를 가공.\u001b[0m\u001b[0;34m\u001b[0m\u001b[0;34m\u001b[0m\u001b[0;34m\u001b[0m\u001b[0m\n\u001b[0;32m----> 2\u001b[0;31m \u001b[0mX_test\u001b[0m\u001b[0;34m,\u001b[0m \u001b[0my_test\u001b[0m \u001b[0;34m=\u001b[0m \u001b[0mconvert_examples_to_features\u001b[0m\u001b[0;34m(\u001b[0m\u001b[0mtest_data_sentence\u001b[0m\u001b[0;34m,\u001b[0m \u001b[0mtest_data_label\u001b[0m\u001b[0;34m,\u001b[0m \u001b[0mmax_seq_len\u001b[0m\u001b[0;34m=\u001b[0m\u001b[0;36m128\u001b[0m\u001b[0;34m,\u001b[0m \u001b[0mtokenizer\u001b[0m\u001b[0;34m=\u001b[0m\u001b[0mtokenizer\u001b[0m\u001b[0;34m)\u001b[0m\u001b[0;34m\u001b[0m\u001b[0;34m\u001b[0m\u001b[0m\n\u001b[0m",
            "\u001b[0;32m<ipython-input-144-858ee3d97db1>\u001b[0m in \u001b[0;36mconvert_examples_to_features\u001b[0;34m(examples, labels, max_seq_len, tokenizer, pad_token_id_for_segment, pad_token_id_for_label)\u001b[0m\n\u001b[1;32m     46\u001b[0m \u001b[0;34m\u001b[0m\u001b[0m\n\u001b[1;32m     47\u001b[0m             \u001b[0;31m# labels_ids.extend() : 리스트 끝에 iterable의 모든 항목을 넣음.\u001b[0m\u001b[0;34m\u001b[0m\u001b[0;34m\u001b[0m\u001b[0;34m\u001b[0m\u001b[0m\n\u001b[0;32m---> 48\u001b[0;31m             \u001b[0mlabels_ids\u001b[0m\u001b[0;34m.\u001b[0m\u001b[0mextend\u001b[0m\u001b[0;34m(\u001b[0m\u001b[0;34m[\u001b[0m\u001b[0mtag_to_index\u001b[0m\u001b[0;34m[\u001b[0m\u001b[0mlabel_token\u001b[0m\u001b[0;34m]\u001b[0m\u001b[0;34m]\u001b[0m \u001b[0;34m+\u001b[0m \u001b[0;34m[\u001b[0m\u001b[0mpad_token_id_for_label\u001b[0m\u001b[0;34m]\u001b[0m \u001b[0;34m*\u001b[0m \u001b[0;34m(\u001b[0m\u001b[0mlen\u001b[0m\u001b[0;34m(\u001b[0m\u001b[0msubword_tokens\u001b[0m\u001b[0;34m)\u001b[0m \u001b[0;34m-\u001b[0m \u001b[0;36m1\u001b[0m\u001b[0;34m)\u001b[0m\u001b[0;34m)\u001b[0m\u001b[0;34m\u001b[0m\u001b[0;34m\u001b[0m\u001b[0m\n\u001b[0m\u001b[1;32m     49\u001b[0m \u001b[0;34m\u001b[0m\u001b[0m\n\u001b[1;32m     50\u001b[0m         \u001b[0;31m# 스페셜 토큰 : [CLS], [SEP]와 같은 토큰들을 의미.\u001b[0m\u001b[0;34m\u001b[0m\u001b[0;34m\u001b[0m\u001b[0;34m\u001b[0m\u001b[0m\n",
            "\u001b[0;31mKeyError\u001b[0m: 'QT_COUNT'"
          ]
        }
      ]
    },
    {
      "cell_type": "markdown",
      "metadata": {
        "id": "eEBzRbTBEc64"
      },
      "source": [
        "# 4. 모델링"
      ]
    },
    {
      "cell_type": "code",
      "metadata": {
        "id": "G3dmf7M-7YSx"
      },
      "source": [
        "class TFBertForTokenClassification(tf.keras.Model):\n",
        "    def __init__(self, model_name, num_labels):\n",
        "        super(TFBertForTokenClassification, self).__init__()\n",
        "        self.bert = TFBertModel.from_pretrained(model_name, from_pt=True)\n",
        "        self.classifier = tf.keras.layers.Dense(num_labels,\n",
        "                                                kernel_initializer=tf.keras.initializers.TruncatedNormal(0.02),\n",
        "                                                name='classifier')\n",
        "\n",
        "    def call(self, inputs):\n",
        "        input_ids, attention_mask, token_type_ids = inputs\n",
        "        outputs = self.bert(input_ids=input_ids, attention_mask=attention_mask, token_type_ids=token_type_ids)\n",
        "        all_output = outputs[0]\n",
        "        prediction = self.classifier(all_output)\n",
        "\n",
        "        return prediction"
      ],
      "execution_count": null,
      "outputs": []
    },
    {
      "cell_type": "markdown",
      "metadata": {
        "id": "l9KPRrA_SgGT"
      },
      "source": [
        "# 5. 손실 함수"
      ]
    },
    {
      "cell_type": "code",
      "metadata": {
        "id": "JymYpWOKuNTg"
      },
      "source": [
        "def compute_loss(labels, logits):\n",
        "\n",
        "  loss_fn = tf.keras.losses.SparseCategoricalCrossentropy(\n",
        "            from_logits=True, reduction=tf.keras.losses.Reduction.NONE)\n",
        "  active_loss = tf.reshape(labels, (-1,)) != -100\n",
        "  reduced_logits = tf.boolean_mask(tf.reshape(logits, (-1, shape_list(logits)[2])), active_loss)\n",
        "  labels = tf.boolean_mask(tf.reshape(labels, (-1,)), active_loss)\n",
        "\n",
        "  return loss_fn(labels, reduced_logits)"
      ],
      "execution_count": null,
      "outputs": []
    },
    {
      "cell_type": "markdown",
      "metadata": {
        "id": "aEuboHlnSh6i"
      },
      "source": [
        "# 6. 학습"
      ]
    },
    {
      "cell_type": "code",
      "metadata": {
        "colab": {
          "base_uri": "https://localhost:8080/"
        },
        "id": "fGbEZ4rb8YBf",
        "outputId": "81dcbcb4-0fda-4a3c-a3d7-0a2c0ef902f1"
      },
      "source": [
        "# TPU 작동을 위한 코드\n",
        "resolver = tf.distribute.cluster_resolver.TPUClusterResolver(tpu='grpc://' + os.environ['COLAB_TPU_ADDR'])\n",
        "tf.config.experimental_connect_to_cluster(resolver)\n",
        "tf.tpu.experimental.initialize_tpu_system(resolver)\n",
        "\n",
        "strategy = tf.distribute.experimental.TPUStrategy(resolver)"
      ],
      "execution_count": null,
      "outputs": [
        {
          "output_type": "stream",
          "name": "stderr",
          "text": [
            "INFO:absl:Entering into master device scope: /job:worker/replica:0/task:0/device:CPU:0\n"
          ]
        },
        {
          "output_type": "stream",
          "name": "stdout",
          "text": [
            "INFO:tensorflow:Deallocate tpu buffers before initializing tpu system.\n"
          ]
        },
        {
          "output_type": "stream",
          "name": "stderr",
          "text": [
            "INFO:tensorflow:Deallocate tpu buffers before initializing tpu system.\n"
          ]
        },
        {
          "output_type": "stream",
          "name": "stdout",
          "text": [
            "INFO:tensorflow:Initializing the TPU system: grpc://10.102.43.122:8470\n"
          ]
        },
        {
          "output_type": "stream",
          "name": "stderr",
          "text": [
            "INFO:tensorflow:Initializing the TPU system: grpc://10.102.43.122:8470\n"
          ]
        },
        {
          "output_type": "stream",
          "name": "stdout",
          "text": [
            "INFO:tensorflow:Finished initializing TPU system.\n"
          ]
        },
        {
          "output_type": "stream",
          "name": "stderr",
          "text": [
            "INFO:tensorflow:Finished initializing TPU system.\n",
            "WARNING:absl:`tf.distribute.experimental.TPUStrategy` is deprecated, please use  the non experimental symbol `tf.distribute.TPUStrategy` instead.\n"
          ]
        },
        {
          "output_type": "stream",
          "name": "stdout",
          "text": [
            "INFO:tensorflow:Found TPU system:\n"
          ]
        },
        {
          "output_type": "stream",
          "name": "stderr",
          "text": [
            "INFO:tensorflow:Found TPU system:\n"
          ]
        },
        {
          "output_type": "stream",
          "name": "stdout",
          "text": [
            "INFO:tensorflow:*** Num TPU Cores: 8\n"
          ]
        },
        {
          "output_type": "stream",
          "name": "stderr",
          "text": [
            "INFO:tensorflow:*** Num TPU Cores: 8\n"
          ]
        },
        {
          "output_type": "stream",
          "name": "stdout",
          "text": [
            "INFO:tensorflow:*** Num TPU Workers: 1\n"
          ]
        },
        {
          "output_type": "stream",
          "name": "stderr",
          "text": [
            "INFO:tensorflow:*** Num TPU Workers: 1\n"
          ]
        },
        {
          "output_type": "stream",
          "name": "stdout",
          "text": [
            "INFO:tensorflow:*** Num TPU Cores Per Worker: 8\n"
          ]
        },
        {
          "output_type": "stream",
          "name": "stderr",
          "text": [
            "INFO:tensorflow:*** Num TPU Cores Per Worker: 8\n"
          ]
        },
        {
          "output_type": "stream",
          "name": "stdout",
          "text": [
            "INFO:tensorflow:*** Available Device: _DeviceAttributes(/job:localhost/replica:0/task:0/device:CPU:0, CPU, 0, 0)\n"
          ]
        },
        {
          "output_type": "stream",
          "name": "stderr",
          "text": [
            "INFO:tensorflow:*** Available Device: _DeviceAttributes(/job:localhost/replica:0/task:0/device:CPU:0, CPU, 0, 0)\n"
          ]
        },
        {
          "output_type": "stream",
          "name": "stdout",
          "text": [
            "INFO:tensorflow:*** Available Device: _DeviceAttributes(/job:worker/replica:0/task:0/device:CPU:0, CPU, 0, 0)\n"
          ]
        },
        {
          "output_type": "stream",
          "name": "stderr",
          "text": [
            "INFO:tensorflow:*** Available Device: _DeviceAttributes(/job:worker/replica:0/task:0/device:CPU:0, CPU, 0, 0)\n"
          ]
        },
        {
          "output_type": "stream",
          "name": "stdout",
          "text": [
            "INFO:tensorflow:*** Available Device: _DeviceAttributes(/job:worker/replica:0/task:0/device:TPU:0, TPU, 0, 0)\n"
          ]
        },
        {
          "output_type": "stream",
          "name": "stderr",
          "text": [
            "INFO:tensorflow:*** Available Device: _DeviceAttributes(/job:worker/replica:0/task:0/device:TPU:0, TPU, 0, 0)\n"
          ]
        },
        {
          "output_type": "stream",
          "name": "stdout",
          "text": [
            "INFO:tensorflow:*** Available Device: _DeviceAttributes(/job:worker/replica:0/task:0/device:TPU:1, TPU, 0, 0)\n"
          ]
        },
        {
          "output_type": "stream",
          "name": "stderr",
          "text": [
            "INFO:tensorflow:*** Available Device: _DeviceAttributes(/job:worker/replica:0/task:0/device:TPU:1, TPU, 0, 0)\n"
          ]
        },
        {
          "output_type": "stream",
          "name": "stdout",
          "text": [
            "INFO:tensorflow:*** Available Device: _DeviceAttributes(/job:worker/replica:0/task:0/device:TPU:2, TPU, 0, 0)\n"
          ]
        },
        {
          "output_type": "stream",
          "name": "stderr",
          "text": [
            "INFO:tensorflow:*** Available Device: _DeviceAttributes(/job:worker/replica:0/task:0/device:TPU:2, TPU, 0, 0)\n"
          ]
        },
        {
          "output_type": "stream",
          "name": "stdout",
          "text": [
            "INFO:tensorflow:*** Available Device: _DeviceAttributes(/job:worker/replica:0/task:0/device:TPU:3, TPU, 0, 0)\n"
          ]
        },
        {
          "output_type": "stream",
          "name": "stderr",
          "text": [
            "INFO:tensorflow:*** Available Device: _DeviceAttributes(/job:worker/replica:0/task:0/device:TPU:3, TPU, 0, 0)\n"
          ]
        },
        {
          "output_type": "stream",
          "name": "stdout",
          "text": [
            "INFO:tensorflow:*** Available Device: _DeviceAttributes(/job:worker/replica:0/task:0/device:TPU:4, TPU, 0, 0)\n"
          ]
        },
        {
          "output_type": "stream",
          "name": "stderr",
          "text": [
            "INFO:tensorflow:*** Available Device: _DeviceAttributes(/job:worker/replica:0/task:0/device:TPU:4, TPU, 0, 0)\n"
          ]
        },
        {
          "output_type": "stream",
          "name": "stdout",
          "text": [
            "INFO:tensorflow:*** Available Device: _DeviceAttributes(/job:worker/replica:0/task:0/device:TPU:5, TPU, 0, 0)\n"
          ]
        },
        {
          "output_type": "stream",
          "name": "stderr",
          "text": [
            "INFO:tensorflow:*** Available Device: _DeviceAttributes(/job:worker/replica:0/task:0/device:TPU:5, TPU, 0, 0)\n"
          ]
        },
        {
          "output_type": "stream",
          "name": "stdout",
          "text": [
            "INFO:tensorflow:*** Available Device: _DeviceAttributes(/job:worker/replica:0/task:0/device:TPU:6, TPU, 0, 0)\n"
          ]
        },
        {
          "output_type": "stream",
          "name": "stderr",
          "text": [
            "INFO:tensorflow:*** Available Device: _DeviceAttributes(/job:worker/replica:0/task:0/device:TPU:6, TPU, 0, 0)\n"
          ]
        },
        {
          "output_type": "stream",
          "name": "stdout",
          "text": [
            "INFO:tensorflow:*** Available Device: _DeviceAttributes(/job:worker/replica:0/task:0/device:TPU:7, TPU, 0, 0)\n"
          ]
        },
        {
          "output_type": "stream",
          "name": "stderr",
          "text": [
            "INFO:tensorflow:*** Available Device: _DeviceAttributes(/job:worker/replica:0/task:0/device:TPU:7, TPU, 0, 0)\n"
          ]
        },
        {
          "output_type": "stream",
          "name": "stdout",
          "text": [
            "INFO:tensorflow:*** Available Device: _DeviceAttributes(/job:worker/replica:0/task:0/device:TPU_SYSTEM:0, TPU_SYSTEM, 0, 0)\n"
          ]
        },
        {
          "output_type": "stream",
          "name": "stderr",
          "text": [
            "INFO:tensorflow:*** Available Device: _DeviceAttributes(/job:worker/replica:0/task:0/device:TPU_SYSTEM:0, TPU_SYSTEM, 0, 0)\n"
          ]
        },
        {
          "output_type": "stream",
          "name": "stdout",
          "text": [
            "INFO:tensorflow:*** Available Device: _DeviceAttributes(/job:worker/replica:0/task:0/device:XLA_CPU:0, XLA_CPU, 0, 0)\n"
          ]
        },
        {
          "output_type": "stream",
          "name": "stderr",
          "text": [
            "INFO:tensorflow:*** Available Device: _DeviceAttributes(/job:worker/replica:0/task:0/device:XLA_CPU:0, XLA_CPU, 0, 0)\n"
          ]
        }
      ]
    },
    {
      "cell_type": "code",
      "metadata": {
        "colab": {
          "base_uri": "https://localhost:8080/",
          "height": 160,
          "referenced_widgets": [
            "ef9962f11b254f77b3b82cb0249b8b58",
            "5c21059b71334368a9fbb7314f71dd2f",
            "7c633d06d7bb4326939c314e7246d262",
            "5c55e522707d428a85e48245b13884e9",
            "4aebf3df91ee4286bcdf42d228412c56",
            "200b308c08524dfc9459016a969d1d39",
            "8744adcecca645669cdc1758ee6a6dd5",
            "3f397c15cbde4d42a746a35a11accb43",
            "93c2f64a0a024c789c112945e895e389",
            "64515bd3d290413f9951ea8464c5b525",
            "7664dee952994b40903c08830cdd025b"
          ]
        },
        "id": "F0AHzTPP8Zf_",
        "outputId": "8c0d4575-6f61-440b-9559-acdf78eaa432"
      },
      "source": [
        "with strategy.scope():\n",
        "  model = TFBertForTokenClassification(\"klue/bert-base\", num_labels=tag_size)\n",
        "  optimizer = tf.keras.optimizers.Adam(learning_rate=5e-5)\n",
        "  model.compile(optimizer=optimizer, loss=compute_loss)"
      ],
      "execution_count": null,
      "outputs": [
        {
          "output_type": "display_data",
          "data": {
            "application/vnd.jupyter.widget-view+json": {
              "model_id": "ef9962f11b254f77b3b82cb0249b8b58",
              "version_minor": 0,
              "version_major": 2
            },
            "text/plain": [
              "Downloading:   0%|          | 0.00/424M [00:00<?, ?B/s]"
            ]
          },
          "metadata": {}
        },
        {
          "output_type": "stream",
          "name": "stderr",
          "text": [
            "Some weights of the PyTorch model were not used when initializing the TF 2.0 model TFBertModel: ['cls.predictions.transform.dense.weight', 'cls.predictions.decoder.weight', 'cls.seq_relationship.bias', 'cls.predictions.transform.LayerNorm.bias', 'cls.predictions.transform.LayerNorm.weight', 'cls.predictions.decoder.bias', 'cls.seq_relationship.weight', 'cls.predictions.transform.dense.bias', 'bert.embeddings.position_ids', 'cls.predictions.bias']\n",
            "- This IS expected if you are initializing TFBertModel from a PyTorch model trained on another task or with another architecture (e.g. initializing a TFBertForSequenceClassification model from a BertForPreTraining model).\n",
            "- This IS NOT expected if you are initializing TFBertModel from a PyTorch model that you expect to be exactly identical (e.g. initializing a TFBertForSequenceClassification model from a BertForSequenceClassification model).\n",
            "All the weights of TFBertModel were initialized from the PyTorch model.\n",
            "If your task is similar to the task the model of the checkpoint was trained on, you can already use TFBertModel for predictions without further training.\n"
          ]
        }
      ]
    },
    {
      "cell_type": "code",
      "metadata": {
        "id": "YrElV6uL_dah"
      },
      "source": [
        "class F1score(tf.keras.callbacks.Callback):\n",
        "    def __init__(self, X_test, y_test):\n",
        "        self.X_test = X_test\n",
        "        self.y_test = y_test\n",
        "\n",
        "    def sequences_to_tags(self, label_ids, pred_ids):\n",
        "      label_list = []\n",
        "      pred_list = []\n",
        "\n",
        "      for i in range(0, len(label_ids)):\n",
        "        label_tag = []\n",
        "        pred_tag = []\n",
        "\n",
        "        for label_index, pred_index in zip(label_ids[i], pred_ids[i]):\n",
        "          if label_index != -100:\n",
        "            label_tag.append(index_to_tag[label_index])\n",
        "            pred_tag.append(index_to_tag[pred_index])\n",
        "        \n",
        "        label_list.append(label_tag)\n",
        "        pred_list.append(pred_tag)\n",
        "\n",
        "      return label_list, pred_list\n",
        "\n",
        "    def on_epoch_end(self, epoch, logs={}):\n",
        "\n",
        "      y_predicted = self.model.predict(self.X_test)\n",
        "      y_predicted = np.argmax(y_predicted, axis = 2)\n",
        "\n",
        "      label_list, pred_list = self.sequences_to_tags(self.y_test, y_predicted)\n",
        "\n",
        "      score = f1_score(label_list, pred_list, suffix=True)\n",
        "      print(' - f1: {:04.2f}'.format(score * 100))\n",
        "      print(classification_report(label_list, pred_list, suffix=True))"
      ],
      "execution_count": null,
      "outputs": []
    },
    {
      "cell_type": "code",
      "metadata": {
        "id": "G72kvx5RBDJS"
      },
      "source": [
        "f1_score_report = F1score(X_test, y_test)"
      ],
      "execution_count": null,
      "outputs": []
    },
    {
      "cell_type": "code",
      "metadata": {
        "colab": {
          "base_uri": "https://localhost:8080/"
        },
        "id": "uS__NIRH8cyI",
        "outputId": "fbfa22c8-d1cd-41c0-a52c-1d654ac84de4"
      },
      "source": [
        "model.fit(\n",
        "    X_train, y_train, epochs=3, batch_size=32,\n",
        "    callbacks = [f1_score_report]\n",
        ")"
      ],
      "execution_count": null,
      "outputs": [
        {
          "output_type": "stream",
          "name": "stdout",
          "text": [
            "Epoch 1/3\n"
          ]
        },
        {
          "output_type": "stream",
          "name": "stderr",
          "text": [
            "INFO:absl:TPU has inputs with dynamic shapes: [<tf.Tensor 'Const:0' shape=() dtype=int32>, <tf.Tensor 'cond/Identity:0' shape=(None, 128) dtype=int64>, <tf.Tensor 'cond/Identity_8:0' shape=(None, 128) dtype=int64>, <tf.Tensor 'cond/Identity_16:0' shape=(None, 128) dtype=int64>, <tf.Tensor 'cond/Identity_24:0' shape=(None, 128) dtype=int32>]\n"
          ]
        },
        {
          "output_type": "stream",
          "name": "stdout",
          "text": [
            "WARNING:tensorflow:Gradients do not exist for variables ['tf_bert_model/bert/pooler/dense/kernel:0', 'tf_bert_model/bert/pooler/dense/bias:0'] when minimizing the loss. If you're using `model.compile()`, did you forget to provide a `loss`argument?\n"
          ]
        },
        {
          "output_type": "stream",
          "name": "stderr",
          "text": [
            "WARNING:tensorflow:Gradients do not exist for variables ['tf_bert_model/bert/pooler/dense/kernel:0', 'tf_bert_model/bert/pooler/dense/bias:0'] when minimizing the loss. If you're using `model.compile()`, did you forget to provide a `loss`argument?\n"
          ]
        },
        {
          "output_type": "stream",
          "name": "stdout",
          "text": [
            "WARNING:tensorflow:From /usr/local/lib/python3.7/dist-packages/keras/engine/training.py:2970: StrategyBase.unwrap (from tensorflow.python.distribute.distribute_lib) is deprecated and will be removed in a future version.\n",
            "Instructions for updating:\n",
            "use `experimental_local_results` instead.\n"
          ]
        },
        {
          "output_type": "stream",
          "name": "stderr",
          "text": [
            "WARNING:tensorflow:From /usr/local/lib/python3.7/dist-packages/keras/engine/training.py:2970: StrategyBase.unwrap (from tensorflow.python.distribute.distribute_lib) is deprecated and will be removed in a future version.\n",
            "Instructions for updating:\n",
            "use `experimental_local_results` instead.\n",
            "INFO:absl:TPU has inputs with dynamic shapes: [<tf.Tensor 'Const:0' shape=() dtype=int32>, <tf.Tensor 'cond/Identity:0' shape=(None, 128) dtype=int64>, <tf.Tensor 'cond/Identity_8:0' shape=(None, 128) dtype=int64>, <tf.Tensor 'cond/Identity_16:0' shape=(None, 128) dtype=int64>, <tf.Tensor 'cond/Identity_24:0' shape=(None, 128) dtype=int32>]\n"
          ]
        },
        {
          "output_type": "stream",
          "name": "stdout",
          "text": [
            "WARNING:tensorflow:Gradients do not exist for variables ['tf_bert_model/bert/pooler/dense/kernel:0', 'tf_bert_model/bert/pooler/dense/bias:0'] when minimizing the loss. If you're using `model.compile()`, did you forget to provide a `loss`argument?\n"
          ]
        },
        {
          "output_type": "stream",
          "name": "stderr",
          "text": [
            "WARNING:tensorflow:Gradients do not exist for variables ['tf_bert_model/bert/pooler/dense/kernel:0', 'tf_bert_model/bert/pooler/dense/bias:0'] when minimizing the loss. If you're using `model.compile()`, did you forget to provide a `loss`argument?\n"
          ]
        },
        {
          "output_type": "stream",
          "name": "stdout",
          "text": [
            "   6/2532 [..............................] - ETA: 3:16 - loss: 2.2431WARNING:tensorflow:Callback method `on_train_batch_end` is slow compared to the batch time (batch time: 0.0067s vs `on_train_batch_end` time: 7.8684s). Check your callbacks.\n"
          ]
        },
        {
          "output_type": "stream",
          "name": "stderr",
          "text": [
            "WARNING:tensorflow:Callback method `on_train_batch_end` is slow compared to the batch time (batch time: 0.0067s vs `on_train_batch_end` time: 7.8684s). Check your callbacks.\n"
          ]
        },
        {
          "output_type": "stream",
          "name": "stdout",
          "text": [
            "2532/2532 [==============================] - ETA: 0s - loss: 0.2726"
          ]
        },
        {
          "output_type": "stream",
          "name": "stderr",
          "text": [
            "INFO:absl:TPU has inputs with dynamic shapes: [<tf.Tensor 'Const:0' shape=() dtype=int32>, <tf.Tensor 'cond/Identity:0' shape=(None, 128) dtype=int64>, <tf.Tensor 'cond/Identity_8:0' shape=(None, 128) dtype=int64>, <tf.Tensor 'cond/Identity_16:0' shape=(None, 128) dtype=int64>]\n"
          ]
        },
        {
          "output_type": "stream",
          "name": "stdout",
          "text": [
            " - f1: 84.91\n",
            "              precision    recall  f1-score   support\n",
            "\n",
            "         AFW       0.63      0.53      0.58       394\n",
            "         ANM       0.71      0.76      0.73       701\n",
            "         CVL       0.80      0.85      0.82      5758\n",
            "         DAT       0.91      0.93      0.92      2521\n",
            "         EVT       0.73      0.77      0.75      1094\n",
            "         FLD       0.76      0.46      0.57       228\n",
            "         LOC       0.82      0.86      0.84      2126\n",
            "         MAT       0.22      0.17      0.19        12\n",
            "         NUM       0.90      0.93      0.91      5590\n",
            "         ORG       0.85      0.87      0.86      4086\n",
            "         PER       0.89      0.89      0.89      4426\n",
            "         PLT       0.42      0.15      0.22        34\n",
            "         TIM       0.81      0.91      0.86       314\n",
            "         TRM       0.74      0.73      0.74      1964\n",
            "\n",
            "   micro avg       0.84      0.86      0.85     29248\n",
            "   macro avg       0.73      0.70      0.71     29248\n",
            "weighted avg       0.84      0.86      0.85     29248\n",
            "\n",
            "2532/2532 [==============================] - 350s 105ms/step - loss: 0.2726\n",
            "Epoch 2/3\n",
            "2532/2532 [==============================] - ETA: 0s - loss: 0.1538 - f1: 86.03\n",
            "              precision    recall  f1-score   support\n",
            "\n",
            "         AFW       0.65      0.63      0.64       394\n",
            "         ANM       0.72      0.81      0.76       701\n",
            "         CVL       0.84      0.84      0.84      5758\n",
            "         DAT       0.92      0.93      0.92      2521\n",
            "         EVT       0.75      0.79      0.77      1094\n",
            "         FLD       0.68      0.63      0.65       228\n",
            "         LOC       0.87      0.83      0.85      2126\n",
            "         MAT       0.17      0.17      0.17        12\n",
            "         NUM       0.91      0.93      0.92      5590\n",
            "         ORG       0.87      0.88      0.88      4086\n",
            "         PER       0.88      0.91      0.89      4426\n",
            "         PLT       0.50      0.24      0.32        34\n",
            "         TIM       0.87      0.82      0.84       314\n",
            "         TRM       0.74      0.74      0.74      1964\n",
            "\n",
            "   micro avg       0.86      0.86      0.86     29248\n",
            "   macro avg       0.74      0.72      0.73     29248\n",
            "weighted avg       0.86      0.86      0.86     29248\n",
            "\n",
            "2532/2532 [==============================] - 204s 81ms/step - loss: 0.1538\n",
            "Epoch 3/3\n",
            "2532/2532 [==============================] - ETA: 0s - loss: 0.1019 - f1: 86.07\n",
            "              precision    recall  f1-score   support\n",
            "\n",
            "         AFW       0.56      0.69      0.62       394\n",
            "         ANM       0.76      0.78      0.77       701\n",
            "         CVL       0.84      0.83      0.84      5758\n",
            "         DAT       0.93      0.93      0.93      2521\n",
            "         EVT       0.76      0.78      0.77      1094\n",
            "         FLD       0.68      0.63      0.65       228\n",
            "         LOC       0.86      0.86      0.86      2126\n",
            "         MAT       0.31      0.33      0.32        12\n",
            "         NUM       0.91      0.93      0.92      5590\n",
            "         ORG       0.88      0.87      0.87      4086\n",
            "         PER       0.88      0.91      0.89      4426\n",
            "         PLT       0.56      0.15      0.23        34\n",
            "         TIM       0.83      0.92      0.87       314\n",
            "         TRM       0.73      0.76      0.75      1964\n",
            "\n",
            "   micro avg       0.86      0.87      0.86     29248\n",
            "   macro avg       0.75      0.74      0.74     29248\n",
            "weighted avg       0.86      0.87      0.86     29248\n",
            "\n",
            "2532/2532 [==============================] - 206s 81ms/step - loss: 0.1019\n"
          ]
        },
        {
          "output_type": "execute_result",
          "data": {
            "text/plain": [
              "<keras.callbacks.History at 0x7f697592cb50>"
            ]
          },
          "metadata": {},
          "execution_count": 40
        }
      ]
    },
    {
      "cell_type": "markdown",
      "metadata": {
        "id": "46u5tNFuEfVB"
      },
      "source": [
        "# 5. 예측"
      ]
    },
    {
      "cell_type": "code",
      "metadata": {
        "id": "Ic-E-9YC0jQ3"
      },
      "source": [
        "def convert_examples_to_features_for_prediction(examples, max_seq_len, tokenizer,\n",
        "                                 pad_token_id_for_segment=0, pad_token_id_for_label=-100):\n",
        "    cls_token = tokenizer.cls_token\n",
        "    sep_token = tokenizer.sep_token\n",
        "    pad_token_id = tokenizer.pad_token_id\n",
        "\n",
        "    input_ids, attention_masks, token_type_ids, label_masks = [], [], [], []\n",
        "\n",
        "    for example in tqdm(examples):\n",
        "        tokens = []\n",
        "        label_mask = []\n",
        "        for one_word in example:\n",
        "            subword_tokens = tokenizer.tokenize(one_word)\n",
        "            tokens.extend(subword_tokens)\n",
        "            label_mask.extend([0]+ [pad_token_id_for_label] * (len(subword_tokens) - 1))\n",
        "\n",
        "        special_tokens_count = 2\n",
        "        if len(tokens) > max_seq_len - special_tokens_count:\n",
        "            tokens = tokens[:(max_seq_len - special_tokens_count)]\n",
        "            label_mask = label_mask[:(max_seq_len - special_tokens_count)]\n",
        "\n",
        "        tokens += [sep_token]\n",
        "        label_mask += [pad_token_id_for_label]\n",
        "\n",
        "        tokens = [cls_token] + tokens\n",
        "        label_mask = [pad_token_id_for_label] + label_mask\n",
        "\n",
        "\n",
        "        input_id = tokenizer.convert_tokens_to_ids(tokens)\n",
        "        attention_mask = [1] * len(input_id)\n",
        "        padding_count = max_seq_len - len(input_id)\n",
        "        input_id = input_id + ([pad_token_id] * padding_count)\n",
        "        attention_mask = attention_mask + ([0] * padding_count)\n",
        "        token_type_id = [pad_token_id_for_segment] * max_seq_len\n",
        "        label_mask = label_mask + ([pad_token_id_for_label] * padding_count)\n",
        "\n",
        "        assert len(input_id) == max_seq_len, \"Error with input length {} vs {}\".format(len(input_id), max_seq_len)\n",
        "        assert len(attention_mask) == max_seq_len, \"Error with attention mask length {} vs {}\".format(len(attention_mask), max_seq_len)\n",
        "        assert len(token_type_id) == max_seq_len, \"Error with token type length {} vs {}\".format(len(token_type_id), max_seq_len)\n",
        "        assert len(label_mask) == max_seq_len, \"Error with labels length {} vs {}\".format(len(label_mask), max_seq_len)\n",
        "\n",
        "        input_ids.append(input_id)\n",
        "        attention_masks.append(attention_mask)\n",
        "        token_type_ids.append(token_type_id)\n",
        "        label_masks.append(label_mask)\n",
        "\n",
        "    input_ids = np.array(input_ids, dtype=int)\n",
        "    attention_masks = np.array(attention_masks, dtype=int)\n",
        "    token_type_ids = np.array(token_type_ids, dtype=int)\n",
        "    label_masks = np.asarray(label_masks, dtype=np.int32)\n",
        "\n",
        "    return (input_ids, attention_masks, token_type_ids), label_masks"
      ],
      "execution_count": null,
      "outputs": []
    },
    {
      "cell_type": "code",
      "metadata": {
        "colab": {
          "base_uri": "https://localhost:8080/"
        },
        "id": "eM2tDJWz2eYo",
        "outputId": "a46f8e40-dcd9-4c1e-cbed-3ec09f250c8b"
      },
      "source": [
        "X_pred, label_masks = convert_examples_to_features_for_prediction(test_data_sentence[:5], max_seq_len=128, tokenizer=tokenizer)"
      ],
      "execution_count": null,
      "outputs": [
        {
          "output_type": "stream",
          "name": "stderr",
          "text": [
            "100%|██████████| 5/5 [00:00<00:00, 635.44it/s]\n"
          ]
        }
      ]
    },
    {
      "cell_type": "code",
      "metadata": {
        "id": "eun5TwgHi2J3"
      },
      "source": [
        "def ner_prediction(examples, max_seq_len, tokenizer):\n",
        "  examples = [sent.split() for sent in examples]\n",
        "  X_pred, label_masks = convert_examples_to_features_for_prediction(examples, max_seq_len=128, tokenizer=tokenizer)\n",
        "  y_predicted = model.predict(X_pred)\n",
        "  y_predicted = np.argmax(y_predicted, axis = 2)\n",
        "\n",
        "  pred_list = []\n",
        "  result_list = []\n",
        "\n",
        "  for i in range(0, len(label_masks)):\n",
        "    pred_tag = []\n",
        "    for label_index, pred_index in zip(label_masks[i], y_predicted[i]):\n",
        "      if label_index != -100:\n",
        "        pred_tag.append(index_to_tag[pred_index])\n",
        "\n",
        "    pred_list.append(pred_tag)\n",
        "\n",
        "  for example, pred in zip(examples, pred_list):\n",
        "    one_sample_result = []\n",
        "    for one_word, label_token in zip(example, pred):\n",
        "      one_sample_result.append((one_word, label_token))\n",
        "    result_list.append(one_sample_result)\n",
        "\n",
        "  return result_list"
      ],
      "execution_count": null,
      "outputs": []
    },
    {
      "cell_type": "code",
      "metadata": {
        "id": "qpyCwTeamjOf"
      },
      "source": [
        "sent1 = '오리온스는 리그 최정상급 포인트가드 김동훈을 앞세우는 빠른 공수전환이 돋보이는 팀이다'\n",
        "sent2 = '하이신사에 속한 섬들도 위로 솟아 있는데 타인은 살고 있어요'"
      ],
      "execution_count": null,
      "outputs": []
    },
    {
      "cell_type": "code",
      "metadata": {
        "id": "Hi6ISgFPmLgO"
      },
      "source": [
        "test_samples = [sent1, sent2]"
      ],
      "execution_count": null,
      "outputs": []
    },
    {
      "cell_type": "code",
      "metadata": {
        "colab": {
          "base_uri": "https://localhost:8080/"
        },
        "id": "CWCzryjBmId2",
        "outputId": "41aa0d8c-2d4f-4b20-de2b-2d88046ffaeb"
      },
      "source": [
        "result_list = ner_prediction(test_samples, max_seq_len=128, tokenizer=tokenizer)"
      ],
      "execution_count": null,
      "outputs": [
        {
          "output_type": "stream",
          "name": "stderr",
          "text": [
            "100%|██████████| 2/2 [00:00<00:00, 701.68it/s]\n"
          ]
        }
      ]
    },
    {
      "cell_type": "code",
      "metadata": {
        "colab": {
          "base_uri": "https://localhost:8080/"
        },
        "id": "j7V1F0K8m3v2",
        "outputId": "66a2ddb7-2175-4d80-f57c-d7439da53112"
      },
      "source": [
        "result_list"
      ],
      "execution_count": null,
      "outputs": [
        {
          "output_type": "execute_result",
          "data": {
            "text/plain": [
              "[[('오리온스는', 'ORG-B'),\n",
              "  ('리그', 'O'),\n",
              "  ('최정상급', 'O'),\n",
              "  ('포인트가드', 'CVL-B'),\n",
              "  ('김동훈을', 'PER-B'),\n",
              "  ('앞세우는', 'O'),\n",
              "  ('빠른', 'O'),\n",
              "  ('공수전환이', 'O'),\n",
              "  ('돋보이는', 'O'),\n",
              "  ('팀이다', 'O')],\n",
              " [('하이신사에', 'LOC-B'),\n",
              "  ('속한', 'O'),\n",
              "  ('섬들도', 'O'),\n",
              "  ('위로', 'O'),\n",
              "  ('솟아', 'O'),\n",
              "  ('있는데', 'O'),\n",
              "  ('타인은', 'O'),\n",
              "  ('살고', 'O'),\n",
              "  ('있어요', 'O')]]"
            ]
          },
          "metadata": {},
          "execution_count": 48
        }
      ]
    }
  ]
}